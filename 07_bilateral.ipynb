{
 "cells": [
  {
   "cell_type": "markdown",
   "metadata": {
    "id": "rZYaNyD2FpiL",
    "pycharm": {
     "name": "#%% md\n"
    }
   },
   "source": [
    "# Filtracja bilateralna"
   ]
  },
  {
   "cell_type": "markdown",
   "metadata": {
    "id": "GgH3xBf_GZAi"
   },
   "source": []
  },
  {
   "cell_type": "markdown",
   "metadata": {
    "id": "dLH690bzFpiS",
    "pycharm": {
     "name": "#%% md\n"
    }
   },
   "source": [
    "## Konwolucja obrazu z filtrem o zadanych współczynnikach\n",
    "\n",
    "Splot (konwolucję) obrazu wejściowego $I$ z filtrem $\\psi$ dla ustalonego punktu obrazu $\\mathbf{x}$ można przedstawić następująco:\n",
    "\n",
    "\\begin{equation}\n",
    "\\hat{I}(\\mathbf{x}) = \\frac{1}{W_N}\\sum_{\\mathbf{p} \\in \\eta(\\mathbf{x})} \\psi(||\\mathbf{p}-\\mathbf{x}||)I(\\mathbf{p})\n",
    "\\end{equation}\n",
    "\n",
    "gdzie:\n",
    "- $\\hat{I}$ jest obrazem wynikowym (przefiltrowanym),\n",
    "- $W_N = \\sum_y \\psi(y)$ jest parametrem normalizującym współczynniki filtra $\\psi$,\n",
    "- $||\\cdot||$ jest odległością między punktami obrazu $\\mathbf{x}$ i $\\mathbf{p}$ według ustalonej metryki (np. norma $L_2$). Uwaga, proszę pamiętać, że zarówno $\\mathbf{x}$, jak i $\\mathbf{p}$ to współrzędne przestrzenne,\n",
    "- $\\eta(\\mathbf{x})$ jest otoczeniem punktu $\\mathbf{x}$.\n",
    "\n",
    "Funkcja $\\psi$ decyduje o charakterze filtracji. Dla filtru Gaussowskiego:\n",
    "\n",
    "\\begin{equation}\n",
    "\\psi(y) = G_{\\delta_s}(y)\n",
    "\\end{equation}\n",
    "\n",
    "gdzie: $G_{\\delta_s}(y)$ jest funkcją Gaussa z parametrem skali $\\delta_s$.\n",
    "\n",
    "Opisaną powyżej filtrację realizowaliśmy w ramach ćwiczenia \"Przetwarzanie wstępne. Filtracja kontekstowa.\""
   ]
  },
  {
   "cell_type": "markdown",
   "metadata": {
    "id": "y-c-Phd8FpiU",
    "pycharm": {
     "name": "#%% md\n"
    }
   },
   "source": [
    "## Filtracja bilateralna\n",
    "\n",
    "Wadą klasycznego splotu jest brak adaptacji współczynników filtra do lokalnego otoczenia $\\eta(\\mathbf{x})$ filtrowanego punktu $\\mathbf{x}$.\n",
    "Oznacza to wykorzystanie tych samych współczynników filtra $\\psi$ niezależnie od tego czy otoczenie jest względnie jednorodne lub zawiera krawędzie obiektów (w tym przypadku dochodzi do \"rozmywania\" krawędzi).\n",
    "Filtracja bilateralna uwzględnia lokalne otoczenie filtrowanego punktu, w ten sposób, że parametry filtra zmieniają się w zależności od \"wyglądu\" otocznia.\n",
    "\n",
    "\n",
    "Współczynniki filtra obliczane są na podstawie odległości filtrowanego punktu $\\mathbf{x}$ od każdego punktu otoczenia $\\mathbf{p}$ w dziedzinie przestrzennej obrazu (tak jak przy typowym filtrze np. Gaussa) oraz odległości punktów w przeciwdziedzinie obrazu (np. na podstawie różnicy w jasności pikseli dla obrazu w odcieniach szarości):\n",
    "\n",
    "\\begin{equation}\n",
    "\\hat{I}(\\mathbf{x}) = \\frac{1}{W_N}\\sum_{\\mathbf{p} \\in \\eta(\\mathbf{x})} \\psi(||\\mathbf{p}-\\mathbf{x}||) \\gamma(|I(\\mathbf{p}) - I(\\mathbf{x})|) I(\\mathbf{p})\n",
    "\\end{equation}\n",
    "gdzie:\n",
    "- $W_N$ jest współczynnikiem normalizującym filtr,\n",
    "- $\\gamma$ jest funkcją odległości w przeciwdziedzinie obrazu, np. $\\gamma(y)=\\exp(-\\frac{y^2}{2\\delta_r^2})$\n",
    "- parametr $\\delta_r$ jest utożsamiany z poziomem szumu w obrazie i należy go dobrać w sposób empiryczny.\n",
    "\n",
    "Proszę chwilę zastanowić się nad powyższym równaniem, w szczególności nad funkcją $\\gamma$. Proszę wyznaczyć, jaka będzie wartość funkcji dla pikseli podobnych (różnica 0, 1, 2), a skrajnie różnych (255, 200).\n",
    "\n",
    "##  Realizacja ćwiczenia\n",
    "\n",
    "### Wczytanie danych\n",
    "\n",
    "1. Wczytaj dane z pliku *MR_data.mat*. W tym celu wykorzystaj funkcję `loadmat` z pakietu scipy:\n",
    "        from scipy.io import loadmat\n",
    "        mat = loadmat('MR_data.mat')\n",
    "\n",
    "2. Wczytany plik zawiera 5 obrazów: *I_noisefree*, *I_noisy1*, *I_noisy2*, *I_noisy3* oraz *I_noisy4*. Odczytać je można w następujący sposób:\n",
    "        Input = mat['I_noisy1']\n",
    "\n",
    "3.Wyświetl wybrany obraz z pliku *MR_data.mat*. Zagadka - co to za obrazowanie medyczne?"
   ]
  },
  {
   "cell_type": "code",
   "execution_count": null,
   "metadata": {
    "id": "hvi5AJiGFpiV",
    "pycharm": {
     "name": "#%% Zadanie 1 - wyświetlanie\n"
    }
   },
   "outputs": [],
   "source": [
    "import cv2\n",
    "import os\n",
    "import requests\n",
    "from matplotlib import pyplot as plt\n",
    "import numpy as np\n",
    "from scipy import signal\n",
    "from scipy.io import loadmat\n",
    "import math\n",
    "\n",
    "url = 'https://raw.githubusercontent.com/vision-agh/poc_sw/master/07_Bilateral/'\n",
    "\n",
    "fileNames = [\"MR_data.mat\"]\n",
    "for fileName in fileNames:\n",
    "  if not os.path.exists(fileName):\n",
    "      r = requests.get(url + fileName, allow_redirects=True)\n",
    "      open(fileName, 'wb').write(r.content)\n",
    "\n",
    "\n",
    "\n",
    "mat = loadmat('MR_data.mat')\n",
    "INoiseFree = mat['I_noisefree']\n",
    "INoisy1 = mat['I_noisy1']\n",
    "INoisy2 = mat['I_noisy2']\n",
    "INoisy3 = mat['I_noisy3']\n",
    "INoisy4 = mat['I_noisy4']"
   ]
  },
  {
   "cell_type": "markdown",
   "metadata": {
    "id": "b2dsan_AFpiX",
    "pycharm": {
     "name": "#%% md\n"
    }
   },
   "source": [
    "### \"Klasyczna\" konwolucja\n",
    "\n",
    "1. Zdefiniuj parametry filtra Gaussowskiego: rozmiar okna i wariancję $\\delta_S$.\n",
    "2. Oblicz współczynniki filtra na podstawie zdefiniowanych parametrów (najprościej w ramach podwójnej pętli for).\n",
    "2. Sprawdź ich poprawność i zwizualizuj filtr (tak jak w ćwiczeniu pt. \"Przetwarzanie wstępne. Filtracja kontekstowa.\").\n",
    "3. Wykonaj kopię obrazu wejściowego: `IConv = Input.copy()`\n",
    "4. Wykonaj podwójną pętlę po obrazie. Pomiń ramkę, dla której nie jest zdefiniowany kontekst o wybranej wielkości.\n",
    "5. W każdej iteracji stwórz dwuwymiarową tablicę zawierającą aktualny kontekst.\n",
    "6. Napisz funkcję, która będzie obliczała nową wartość piksela.\n",
    "Argumentem tej funkcji są aktualnie przetwarzane okno i współczynniki filtra.\n",
    "7. Obliczoną wartość przypisz do odpowiedniego piksela kopii obrazu wejściowego.\n",
    "8. Wyświetl wynik filtracji.\n",
    "9. Porównaj wynik z obrazem oryginalnym."
   ]
  },
  {
   "cell_type": "code",
   "execution_count": null,
   "metadata": {
    "id": "EL5qWflAFpiY",
    "pycharm": {
     "name": "#%% Zadanie 2 - konwolucja\n"
    }
   },
   "outputs": [],
   "source": [
    "from scipy.stats import norm\n",
    "WSize = 5\n",
    "WarS = 1.7\n",
    "\n",
    "wsp_array = [ [ 0 for _ in range(WSize)] for _ in range(WSize) ]\n",
    "for i in range(WSize):\n",
    "  for j in range(WSize):\n",
    "    mid = WSize//2\n",
    "    v = ((mid-i)**2+(mid-j)**2)**(1/2)\n",
    "    wsp_array[i][j] = norm.pdf(v, loc=0, scale=WarS)\n",
    "\n",
    "summ = np.sum(wsp_array)\n",
    "wsp_array = wsp_array/summ\n",
    "print(wsp_array)\n"
   ]
  },
  {
   "cell_type": "code",
   "execution_count": null,
   "metadata": {
    "id": "czwGqQKNgLqB"
   },
   "outputs": [],
   "source": [
    "def fgaussian(size, sigma):\n",
    "     m = n = size\n",
    "     h, k = m//2, n//2\n",
    "     x, y = np.mgrid[-h:h+1, -k:k+1]\n",
    "     g = np.exp(-(x**2 + y**2)/(2*sigma**2))\n",
    "     return g /g.sum() \n",
    "\n",
    "def mesh(fun, size):\n",
    "    fig = plt.figure()\n",
    "    ax = fig.gca(projection='3d')\n",
    "    \n",
    "\n",
    "    X = np.arange(-size//2, size//2, 1)\n",
    "    Y = np.arange(-size//2, size//2, 1)\n",
    "    X, Y = np.meshgrid(X, Y)\n",
    "    Z = fun\n",
    "    \n",
    "    ax.plot_surface(X, Y, Z)\n",
    "    \n",
    "    plt.show()\n",
    "\n",
    "def difference(I, I2):\n",
    "  return I.astype(np.int32) - I2.astype(np.int32)\n",
    "\n",
    "mesh(fgaussian(WSize, WarS), WSize)"
   ]
  },
  {
   "cell_type": "code",
   "execution_count": null,
   "metadata": {
    "id": "mVChRUTmg1V_"
   },
   "outputs": [],
   "source": [
    "frame = fgaussian(WSize, WarS)\n",
    "original_img = INoiseFree\n",
    "IConv = np.copy(original_img) #.copy()\n",
    "H, W = original_img.shape\n",
    "h, w = frame.shape\n",
    "midW = w//2\n",
    "midH = h//2\n",
    "\n",
    "def new_pixel(i,j,mini_pic, frame, midW, midH):\n",
    "  result = mini_pic[i-midW:i+midW+1,j-midH:j+midH+1]*frame\n",
    "  return np.sum(result)\n",
    "\n",
    "for i in range(midW, W-midW-1):\n",
    "  for j in range(midH, H-midH-1):\n",
    "    IConv[i][j] = new_pixel(i, j, original_img, frame, midW, midH)\n",
    "\n",
    "D = difference(original_img, IConv)\n",
    "f, (ax1) = plt.subplots(1,3, figsize=(20,20))\n",
    "ax1[0].imshow(original_img, cmap='gray')\n",
    "ax1[1].imshow(IConv, cmap='gray')\n",
    "ax1[2].imshow(D, cmap='gray')"
   ]
  },
  {
   "cell_type": "code",
   "execution_count": null,
   "metadata": {
    "id": "toDWaPzosL2i"
   },
   "outputs": [],
   "source": [
    "frame = fgaussian(WSize, WarS)\n",
    "original_img = INoisy4\n",
    "IConv = np.copy(original_img) #.copy()\n",
    "H, W = original_img.shape\n",
    "h, w = frame.shape\n",
    "midW = w//2\n",
    "midH = h//2\n",
    "\n",
    "def new_pixel(i,j,mini_pic, frame, midW, midH):\n",
    "  return np.sum(mini_pic[i-midW:i+midW+1,j-midH:j+midH+1]*frame)\n",
    "\n",
    "for i in range(midW, W-midW-1):\n",
    "  for j in range(midH, H-midH-1):\n",
    "    IConv[i][j] = new_pixel(i, j, original_img, frame, midW, midH)\n",
    "\n",
    "D = difference(original_img, IConv)\n",
    "f, (ax1) = plt.subplots(1,3, figsize=(20,20))\n",
    "ax1[0].imshow(original_img, cmap='gray')\n",
    "ax1[1].imshow(IConv, cmap='gray')\n",
    "ax1[2].imshow(D, cmap='gray')"
   ]
  },
  {
   "cell_type": "markdown",
   "metadata": {
    "id": "0mp0PQrdFpiZ",
    "pycharm": {
     "name": "#%% md\n"
    }
   },
   "source": [
    "### Filtracja bilateralna\n",
    "\n",
    "1. Zdefiniuj dodatkowy parametr: wariancję $\\delta_R$.\n",
    "3. Wykonaj kopię obrazu wejściowego: `IBilateral = Input.copy()`\n",
    "4. Wykonaj podwójną pętlę po obrazie. Pomiń ramkę, dla której nie jest zdefiniowany kontekst o wybranej wielkości.\n",
    "5. W każdej iteracji stwórz dwuwymiarową tablicę zawierającą aktualny kontekst.\n",
    "6. Napisz funkcję, która będzie obliczała nową wartość piksela.\n",
    "Argumentami funkcji są aktualnie przetwarzane okno, współczynniki filtra gausowskiego (takie same jak wcześniej) i wariancja $\\delta_R$.\n",
    "7. Oblicz odległość w przeciwdziedzinie (dla wartości pikseli).\n",
    "8. Oblicz funkcję Gaussa dla obliczonych odległości z zadanym parametrem.\n",
    "9. Wykonaj normalizację obliczonych współczynników.\n",
    "10. Obliczoną wartość przypisz do odpowiedniego piksela kopii obrazu wejściowego.\n",
    "11. Wyświetl wynik filtracji.\n",
    "12. Porównaj wynik z obrazem oryginalnym."
   ]
  },
  {
   "cell_type": "code",
   "execution_count": null,
   "metadata": {
    "id": "a3ha5w7RHvT6"
   },
   "outputs": [],
   "source": [
    "WarS = 1.5\n",
    "WarR = 15\n",
    "frame = fgaussian(WSize, WarS)\n",
    "original_img = INoiseFree\n",
    "IConv = np.copy(original_img) #.copy()\n",
    "H, W = original_img.shape\n",
    "h, w = frame.shape\n",
    "midW = w//2\n",
    "midH = h//2\n",
    "\n",
    "def Y(y, wsp):\n",
    "  return float(np.exp(-(np.int64(y)*np.int64(y))/(2*float(wsp)*float(wsp))))\n",
    "\n",
    "def new_pixel(i, j, original_img, gauss_frame, midW, midH):\n",
    "  context = np.copy(original_img[i-midW:i+midW+1,j-midH:j+midH+1])\n",
    "  gauss_window = np.copy(gauss_frame)\n",
    "  h1, w1 = gauss_window.shape\n",
    "  for a in range(h1//2):\n",
    "    for b in range(w1//2):\n",
    "      gauss_window[a][b] = gauss_window[a][b] * Y(float(original_img[i][j]) - float(context[a][b]), WarR)\n",
    "  \n",
    "  norm_sum = np.sum(gauss_window)\n",
    "\n",
    "  for a in range(h1):\n",
    "    for b in range(w1):\n",
    "      gauss_window[a][b] = gauss_window[a][b] * context[a][b]\n",
    "  \n",
    "  return np.sum(gauss_window)/norm_sum\n",
    "\n",
    "for i in range(midH, H-midH):\n",
    "  for j in range(midW, W-midW):\n",
    "    IConv[i][j] = new_pixel(i, j, original_img, frame, midW, midH)\n",
    "\n",
    "D = difference(original_img, IConv)\n",
    "f, (ax1) = plt.subplots(1,3, figsize=(20,20))\n",
    "ax1[0].imshow(original_img, cmap='gray')\n",
    "ax1[1].imshow(IConv, cmap='gray')\n",
    "ax1[2].imshow(D, cmap='gray')"
   ]
  },
  {
   "cell_type": "code",
   "execution_count": null,
   "metadata": {
    "id": "FoYdd_kJw30T"
   },
   "outputs": [],
   "source": [
    "def f(original_img, WarS=1.5, WarR=15):\n",
    "  frame = fgaussian(WSize, WarS)\n",
    "  IConv = np.copy(original_img) #.copy()\n",
    "  H, W = original_img.shape\n",
    "  h, w = frame.shape\n",
    "  midW = w//2\n",
    "  midH = h//2\n",
    "\n",
    "  def Y(y, wsp):\n",
    "    return float(np.exp(-(np.int64(y)*np.int64(y))/(2*float(wsp)*float(wsp))))\n",
    "\n",
    "  def new_pixel(i, j, original_img, gauss_frame, midW, midH):\n",
    "    context = np.copy(original_img[i-midW:i+midW+1,j-midH:j+midH+1])\n",
    "    gauss_window = np.copy(gauss_frame)\n",
    "    h1, w1 = gauss_window.shape\n",
    "    for a in range(h1):\n",
    "      for b in range(w1):\n",
    "        gauss_window[a][b] = gauss_window[a][b] * Y(float(original_img[i][j]) - float(context[a][b]), WarR)\n",
    "    \n",
    "    norm_sum = np.sum(gauss_window)\n",
    "\n",
    "    for a in range(h1):\n",
    "      for b in range(w1):\n",
    "        gauss_window[a][b] = gauss_window[a][b] * context[a][b]\n",
    "    \n",
    "    return np.sum(gauss_window)/norm_sum\n",
    "\n",
    "  for i in range(midH, H-midH):\n",
    "    for j in range(midW, W-midW):\n",
    "      IConv[i][j] = new_pixel(i, j, original_img, frame, midW, midH)\n",
    "\n",
    "  D = difference(original_img, IConv)\n",
    "  f, (ax1) = plt.subplots(1,3, figsize=(20,20))\n",
    "  ax1[0].imshow(original_img, cmap='gray')\n",
    "  ax1[1].imshow(IConv, cmap='gray')\n",
    "  ax1[2].imshow(D, cmap='gray')"
   ]
  },
  {
   "cell_type": "code",
   "execution_count": null,
   "metadata": {
    "id": "_Tji51WXxWmV"
   },
   "outputs": [],
   "source": [
    "f(INoisy1)"
   ]
  },
  {
   "cell_type": "code",
   "execution_count": null,
   "metadata": {
    "id": "oBsq1Tp8xWrc"
   },
   "outputs": [],
   "source": [
    "f(INoisy2)"
   ]
  },
  {
   "cell_type": "code",
   "execution_count": null,
   "metadata": {
    "id": "lQYn6IwvxX8c"
   },
   "outputs": [],
   "source": [
    "f(INoisy3)"
   ]
  },
  {
   "cell_type": "code",
   "execution_count": null,
   "metadata": {
    "id": "dYQ8XVbxxYh_"
   },
   "outputs": [],
   "source": [
    "f(INoisy4)"
   ]
  }
 ],
 "metadata": {
  "colab": {
   "provenance": []
  },
  "kernelspec": {
   "display_name": "Python 3 (ipykernel)",
   "language": "python",
   "name": "python3"
  },
  "language_info": {
   "codemirror_mode": {
    "name": "ipython",
    "version": 3
   },
   "file_extension": ".py",
   "mimetype": "text/x-python",
   "name": "python",
   "nbconvert_exporter": "python",
   "pygments_lexer": "ipython3",
   "version": "3.10.6"
  }
 },
 "nbformat": 4,
 "nbformat_minor": 1
}
