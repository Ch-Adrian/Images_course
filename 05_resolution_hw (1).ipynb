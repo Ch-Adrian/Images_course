{
  "cells": [
    {
      "cell_type": "markdown",
      "source": [
        "# Zadanie domowe -- interpolacja dwusześcienna\n",
        "\n",
        "Interpolacja dwusześcienna, to podobnie jak w przypadku interpolacji dwuliniowej, rozszerzenie idei interpolacji jednowymiarowej na dwuwymiarową siatkę.\n",
        "W trakcie jej obliczania wykorzystywane jest 16 pikseli z otoczenia (dla dwuliniowej 4).\n",
        "Skutkuje to zwykle lepszymi wynikami - obraz wyjściowy jest bardziej gładki i z mniejszą liczbą artefaktów.\n",
        "Ceną jest znaczny wzrost złożoności obliczeniowej (zostało to zaobserwowane podczas ćwiczenia).\n",
        "\n",
        "Interpolacja dana jest wzorem:\n",
        "\\begin{equation}\n",
        "I(i,j) = \\sum_{i=0}^{3} \\sum_{j=0}^{3} a_{ij} x^i y^j\n",
        "\\end{equation}\n",
        "\n",
        "Zadanie sprowadza się zatem do wyznaczenia 16 współczynników $a_{ij}$.\n",
        "W tym celu wykorzystuje się, oprócz wartość w puntach $A$ (0,0), $B$ (1 0), $C$ (1,1), $D$ (0,1) (por. rysunek dotyczący interpolacji dwuliniowej), także pochodne cząstkowe $A_x$, $A_y$, $A_{xy}$.\n",
        "Pozwala to rozwiązać układ 16-tu równań.\n",
        "\n",
        "Jeśli zgrupujemy parametry $a_{ij}$:\n",
        "\\begin{equation}\n",
        "a = [ a_{00}~a_{10}~a_{20}~a_{30}~a_{01}~a_{11}~a_{21}~a_{31}~a_{02}~a_{12}~a_{22}~a_{32}~a_{03}~a_{13}~a_{23}~a_{33}]\n",
        "\\end{equation}\n",
        "\n",
        "i przyjmiemy:\n",
        "\\begin{equation}\n",
        "x = [A~B~D~C~A_x~B_x~D_x~C_x~A_y~B_y~D_y~C_y~A_{xy}~B_{xy}~D_{xy}~C_{xy}]^T\n",
        "\\end{equation}\n",
        "\n",
        "To zagadnienie można opisać w postaci równania liniowego:\n",
        "\\begin{equation}\n",
        "Aa = x\n",
        "\\end{equation}\n",
        "gdzie macierz $A^{-1}$ dana jest wzorem:\n",
        "\n",
        "\\begin{equation}\n",
        "A^{-1} =\n",
        "\\begin{bmatrix}\n",
        "1& 0& 0& 0& 0& 0& 0& 0& 0& 0& 0& 0& 0& 0& 0& 0 \\\\\n",
        "0&  0&  0&  0&  1&  0&  0&  0&  0&  0&  0&  0&  0&  0&  0&  0 \\\\\n",
        "-3&  3&  0&  0& -2& -1&  0&  0&  0&  0&  0&  0&  0&  0&  0&  0 \\\\\n",
        "2& -2&  0&  0&  1&  1&  0&  0&  0&  0&  0&  0&  0&  0&  0&  0 \\\\\n",
        "0&  0&  0&  0&  0&  0&  0&  0&  1&  0&  0&  0&  0&  0&  0&  0 \\\\\n",
        "0&  0&  0&  0&  0&  0&  0&  0&  0&  0&  0&  0&  1&  0&  0&  0 \\\\\n",
        "0&  0&  0&  0&  0&  0&  0&  0& -3&  3&  0&  0& -2& -1&  0&  0 \\\\\n",
        "0&  0&  0&  0&  0&  0&  0&  0&  2& -2&  0&  0&  1&  1&  0&  0 \\\\\n",
        "-3&  0&  3&  0&  0&  0&  0&  0& -2&  0& -1&  0&  0&  0&  0&  0 \\\\\n",
        "0&  0&  0&  0& -3&  0&  3&  0&  0&  0&  0&  0& -2&  0& -1&  0 \\\\\n",
        "9& -9& -9&  9&  6&  3& -6& -3&  6& -6&  3& -3&  4&  2&  2&  1 \\\\\n",
        "-6&  6&  6& -6& -3& -3&  3&  3& -4&  4& -2&  2& -2& -2& -1& -1 \\\\\n",
        "2&  0& -2&  0&  0&  0&  0&  0&  1&  0&  1&  0&  0&  0&  0&  0 \\\\\n",
        "0&  0&  0&  0&  2&  0& -2&  0&  0&  0&  0&  0&  1&  0&  1&  0 \\\\\n",
        "-6&  6&  6& -6& -4& -2&  4&  2& -3&  3& -3&  3& -2& -1& -2& -1 \\\\\n",
        "4& -4& -4&  4&  2&  2& -2& -2&  2& -2&  2& -2&  1&  1&  1&  1 \\\\\n",
        "\\end{bmatrix}\n",
        "\\end{equation}\n",
        "\n",
        "Potrzebne w rozważaniach pochodne cząstkowe obliczane są wg. następującego przybliżenia (przykład dla punktu A):\n",
        "\\begin{equation}\n",
        "A_x = \\frac{I(i+1,j) - I(i-1,j)}{2}\n",
        "\\end{equation}\n",
        "\\begin{equation}\n",
        "A_y = \\frac{I(i,j+1) - I(i,j-1)}{2}\n",
        "\\end{equation}\n",
        "\\begin{equation}\n",
        "A_{xy} = \\frac{I(i+1,j+1) - I(i-1,j) - I(i,j-1) + I(i,j)}{4}\n",
        "\\end{equation}\n",
        "\n",
        "## Zadanie\n",
        "\n",
        "Wykorzystując podane informacje zaimplementuj interpolację dwusześcienną.\n",
        "Uwagi:\n",
        "- macierz $A^{-1}$ dostępna jest w pliku *a_invert.py*\n",
        "- trzeba się zastanowić nad potencjalnym wykraczaniem poza zakres obrazka (jak zwykle).\n",
        "\n",
        "Ponadto dokonaj porównania liczby operacji arytmetycznych i dostępów do pamięci koniecznych przy realizacji obu metod interpolacji: dwuliniowej i dwusześciennej."
      ],
      "metadata": {
        "collapsed": false,
        "id": "0TjU9o5xEKsO"
      }
    },
    {
      "cell_type": "code",
      "execution_count": null,
      "outputs": [],
      "source": [
        "import cv2\n",
        "import os\n",
        "import requests\n",
        "from matplotlib import pyplot as plt\n",
        "import numpy as np\n",
        "\n",
        "url = 'https://raw.githubusercontent.com/vision-agh/poc_sw/master/05_Resolution/'\n",
        "\n",
        "fileName = \"ainvert.py\"\n",
        "if not os.path.exists(fileName):\n",
        "    r = requests.get(url + fileName, allow_redirects=True)\n",
        "    open(fileName, 'wb').write(r.content)\n",
        "\n",
        "fileNames = [\"parrot.bmp\", \"clock.bmp\", \"chessboard.bmp\", \"bart.png\", \"firetruck.jpg\"]\n",
        "for fileName in fileNames:\n",
        "  if not os.path.exists(fileName):\n",
        "      r = requests.get(url + fileName, allow_redirects=True)\n",
        "      open(fileName, 'wb').write(r.content)"
      ],
      "metadata": {
        "pycharm": {
          "name": "#%%\n"
        },
        "id": "pOvKZfbuEKsR"
      }
    },
    {
      "cell_type": "code",
      "source": [
        "import ainvert\n",
        "\n",
        "def bicubic(I, wsp_h, wsp_w):\n",
        "  h, w = I.shape\n",
        "  h2, w2 = int(wsp_h * h), int(wsp_w * w)\n",
        "\n",
        "  def img(I, param):\n",
        "    i,j = param\n",
        "    return I[i][j]\n",
        "\n",
        "  def dx(I, param):\n",
        "    i,j = param\n",
        "    h, w = I.shape\n",
        "    if h-1 == i:\n",
        "      i = i - 1\n",
        "    if i == 0:\n",
        "      i = i + 1\n",
        "    return (I[i+1][j] - I[i-1][j])/2\n",
        "  \n",
        "  def dy(I, param):\n",
        "    i,j = param\n",
        "    h, w = I.shape\n",
        "    if w-1 == j:\n",
        "      j = j - 1\n",
        "    if j == 0:\n",
        "      j = j + 1\n",
        "    return (I[i][j+1] - I[i][j-1])/2\n",
        "\n",
        "  def dxy(I, param):\n",
        "    i,j = param\n",
        "    h, w = I.shape\n",
        "    if h-1 == i:\n",
        "      i = i - 1\n",
        "    if i == 0:\n",
        "      i = i + 1\n",
        "    if w-1 == j:\n",
        "      j = j - 1\n",
        "    if j == 0:\n",
        "      j = j + 1\n",
        "    return (I[i+1][j+1] - I[i-1][j] - I[i][j-1] + I[i][j])/4\n",
        "  \n",
        "  def p(x,y,a):\n",
        "    left = np.array([1, y, y**2, y**3])\n",
        "    right = np.array([1, x, x**2, x**3]).transpose()\n",
        "    return left @ a @ right\n",
        "\n",
        "  def find_nearest(ii, jj, I, wsp_h, wsp_w):\n",
        "    h3, w3 = I.shape\n",
        "    i = int(ii/wsp_h)\n",
        "    j = int(jj/wsp_w)\n",
        "\n",
        "    A = (i, j)\n",
        "    B = ((i+1) if i != h-1 else i, j)\n",
        "    C = ((i+1) if i != h-1 else i, (j+1) if j != w-1 else j)\n",
        "    D = (i, (j+1) if j != w-1 else j)\n",
        "\n",
        "    x = np.array([img(I,A), img(I,B), img(I,D), img(I,C), dx(I, A),dx(I, B),dx(I, D),dx(I, C),\\\n",
        "         dy(I, A),dy(I, B),dy(I, D),dy(I, C),dxy(I, A),dxy(I, B),dxy(I, D),dxy(I, C),])\n",
        "    \n",
        "    a = np.array(ainvert.A_invert @ x.transpose())\n",
        "    return p(ii/wsp_h - i, jj/wsp_w - j, a.reshape((4,4)))\n",
        "\n",
        "  I = I.astype(np.int64)\n",
        "  I2 = np.array([ [ 0 for _ in range(w2) ] for _ in range(h2) ])\n",
        "  for i in range(h2):\n",
        "    for j in range(w2):\n",
        "      I2[i][j] = find_nearest(i,j, I, wsp_h, wsp_w)\n",
        "\n",
        "  return I2\n"
      ],
      "metadata": {
        "id": "8z_P0irUQG1e"
      },
      "execution_count": null,
      "outputs": []
    },
    {
      "cell_type": "markdown",
      "source": [
        "Dane: Obraz o szerokości w2 i wysokości h2\n",
        "\n",
        "Interpolacja dwusześcienna:<br>\n",
        "Operacje arytmetyczne:\n",
        "*   \\+ w2\\*h2\\*19\n",
        "*   \\- w2\\*h2\\*38\n",
        "*   \\/ w2\\*h2\\*16 \n",
        "*   \\* w2\\*h2\\*6\n",
        "*   Dla operacji \\@: \n",
        "*     *   \\* w2\\*h2\\*276\n",
        "*     *   \\+ w2\\*h2\\*255\n",
        "\n",
        "Operacje dostępu do pamięci:\n",
        "*   w\\*h\n",
        "*   w2\\*h2\\*37\n",
        "\n",
        "Interpolacja dwuliniowa: <br>\n",
        "Operacje arytmetyczne:\n",
        "*   \\+ w2\\*h2\\*7\n",
        "*   \\- w2\\*h2\\*14\n",
        "*   \\* w2\\*h2\\*8\n",
        "*   \\/ w2\\*h2\\*4\n",
        "\n",
        "Operacje dostępu do pamięci:\n",
        "*   w2\\*h2\\*5\n",
        "\n",
        "Wniosek:<br>\n",
        "Operacji dla interpolacji dwusześciennej jest znacznie więcej. Dla obrazka wejściowego 255x255 mamy złożoność mnożeń sześcienną w interpolacji dwusześciennej, a w interpolacji dwuliniowej nadal kwadrotową."
      ],
      "metadata": {
        "id": "pcTRmoI9W82e"
      }
    },
    {
      "cell_type": "code",
      "source": [
        "I = cv2.imread('chessboard.bmp')         \n",
        "I = cv2.cvtColor(I, cv2.COLOR_BGR2GRAY) \n",
        "I2 = bicubic(I, 2.5,2.5)\n",
        "plt.figure(figsize=(I2.shape[0]/100,I2.shape[1]/100), dpi=200)\n",
        "plt.imshow(I2, cmap =\"gray\")\n",
        "plt.xticks([]), plt.yticks([])\n",
        "plt.show()"
      ],
      "metadata": {
        "id": "W8sNJcBVU8Z1"
      },
      "execution_count": null,
      "outputs": []
    },
    {
      "cell_type": "code",
      "source": [
        "I = cv2.imread('parrot.bmp')         \n",
        "I = cv2.cvtColor(I, cv2.COLOR_BGR2GRAY) \n",
        "I2 = bicubic(I, 2.5,2.5)\n",
        "plt.figure(figsize=(I2.shape[0]/100,I2.shape[1]/100), dpi=200)\n",
        "plt.imshow(I2, cmap =\"gray\")\n",
        "plt.xticks([]), plt.yticks([])\n",
        "plt.show()"
      ],
      "metadata": {
        "id": "VFaGYQxLeeSI"
      },
      "execution_count": null,
      "outputs": []
    },
    {
      "cell_type": "code",
      "source": [
        "I = cv2.imread('parrot.bmp')         \n",
        "I = cv2.cvtColor(I, cv2.COLOR_BGR2GRAY) \n",
        "I2 = bicubic(I, 0.5, 0.5)\n",
        "plt.figure(figsize=(I2.shape[0]/100,I2.shape[1]/100), dpi=200)\n",
        "plt.imshow(I2, cmap =\"gray\")\n",
        "plt.xticks([]), plt.yticks([])\n",
        "plt.show()"
      ],
      "metadata": {
        "id": "BrReIDAoVVG6"
      },
      "execution_count": null,
      "outputs": []
    },
    {
      "cell_type": "code",
      "source": [
        "I = cv2.imread('clock.bmp')         \n",
        "I = cv2.cvtColor(I, cv2.COLOR_BGR2GRAY) \n",
        "I2 = bicubic(I, 2.5,2.5)\n",
        "plt.figure(figsize=(I2.shape[0]/100,I2.shape[1]/100), dpi=200)\n",
        "plt.imshow(I2, cmap =\"gray\")\n",
        "plt.xticks([]), plt.yticks([])\n",
        "plt.show()"
      ],
      "metadata": {
        "id": "Bz5IQLXTeeY-"
      },
      "execution_count": null,
      "outputs": []
    },
    {
      "cell_type": "code",
      "source": [
        "I = cv2.imread('firetruck.jpg')         \n",
        "I = cv2.cvtColor(I, cv2.COLOR_BGR2GRAY) \n",
        "I2 = bicubic(I, 2.5,2.5)\n",
        "plt.figure(figsize=(I2.shape[0]/100,I2.shape[1]/100), dpi=200)\n",
        "plt.imshow(I2, cmap =\"gray\")\n",
        "plt.xticks([]), plt.yticks([])\n",
        "plt.show()"
      ],
      "metadata": {
        "id": "tLIuv_wheeg6"
      },
      "execution_count": null,
      "outputs": []
    }
  ],
  "metadata": {
    "kernelspec": {
      "display_name": "Python 3",
      "language": "python",
      "name": "python3"
    },
    "language_info": {
      "codemirror_mode": {
        "name": "ipython",
        "version": 3
      },
      "file_extension": ".py",
      "mimetype": "text/x-python",
      "name": "python",
      "nbconvert_exporter": "python",
      "pygments_lexer": "ipython3",
      "version": "3.8.3"
    },
    "colab": {
      "provenance": []
    }
  },
  "nbformat": 4,
  "nbformat_minor": 0
}