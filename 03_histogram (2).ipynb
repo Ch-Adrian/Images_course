{
  "cells": [
    {
      "cell_type": "markdown",
      "metadata": {
        "pycharm": {
          "name": "#%% md\n"
        },
        "id": "GyJVpdDDcDvQ"
      },
      "source": [
        "# Histogram obrazu. Wyrównywanie histogramu."
      ]
    },
    {
      "cell_type": "markdown",
      "source": [
        "## Cel ćwiczenia\n",
        "\n",
        "- Zapoznanie z pojęciem histogramu obrazu (w odcieniach szarości i kolorze).\n",
        "- Zapoznanie z metodami modyfikacji histogramu (rozciąganie, wyrównywanie, dopasowywanie)."
      ],
      "metadata": {
        "collapsed": false,
        "pycharm": {
          "name": "#%% md\n"
        },
        "id": "NLeSSymzcDvS"
      }
    },
    {
      "cell_type": "markdown",
      "source": [
        "## Histogram\n",
        "\n",
        "- Histogramem obrazu nazywamy wykres słupkowy zdefiniowany następującymi zależnościami:<br>\n",
        "\\begin{equation}\n",
        "h(i) = \\sum_{x=0}^{N-1} \\sum_{y=0}^{M-1} p(i,(x,y))\n",
        "\\end{equation}<br>\n",
        "gdzie:<br>\n",
        "\\begin{equation}\n",
        "p(i) =  \\left\\{\n",
        "  \\begin{array}{l l}\n",
        "    1 & \\quad \\text{gdy} f(x,y) = i\\\\\n",
        "    0 & \\quad \\text{gdy} f(x,y) \\ne i\n",
        "  \\end{array} \\right.\n",
        "\\end{equation}\n",
        "\n",
        "- Inaczej mówiąc, histogram zawiera informacje na temat tego ile pikseli o danym poziomie jasności występuje na obrazie (w przypadku obrazu w odcieniach szarości). Określa się to także rozkładem empirycznym cechy.\n",
        "\n",
        "- Często wykorzystuje się tzw. znormalizowaną postać histogramu  – wszystkie wartości $h(i)$ są dzielone przez liczbę pikseli na obrazie.\n",
        "Otrzymana w ten sposób wielkość to gęstość prawdopodobieństwa wystąpienia na obrazie pikseli o odcieniu $i$.\n",
        "\n",
        "- Histogram można zdefiniować również dla obrazów kolorowych.\n",
        "Otrzymujemy wtedy 3 histogramy – po jednym dla danej składowej: R,G,B (lub HSV, YCbCr, itp.) lub histogram trójwymiarowy.\n",
        "\n",
        "- Histogram jest bardzo użyteczny w przetwarzaniu i analizie obrazów.\n",
        "Wykorzystywany jest przy binaryzacji (szerzej na jednym z kolejnych laboratoriów) oraz do oceny jakości (dynamiki, kontrastu) obrazu.\n",
        "W idealnym przypadku wszystkie poziomy jasności w obrazie powinny być wykorzystane (i to najlepiej w miarę jednolicie)  – obrazowo mówiąc histogram powinien rozciągać się od 0  – 255 (obraz w skali szarości).\n",
        "\n",
        "- W przypadku gdy  wykorzystujemy jedynie fragment dostępnego zakresu (wąski histogram)  lub histogram nie jest jednolity (występują dominujące grupy pikseli) obraz ma dość słaby kontrast.\n",
        "Cechę tę można poprawić stosując tzw. rozciąganie albo wyrównywanie histogramu (ang. *histogram equalization*).</div>"
      ],
      "metadata": {
        "collapsed": false,
        "pycharm": {
          "name": "#%% md\n"
        },
        "id": "-vb7gT4WcDvT"
      }
    },
    {
      "cell_type": "markdown",
      "source": [
        "## Histogram dla obrazów w odcieniach szarości\n",
        "\n",
        "1. Zaimportuj potrzebne biblioteki: *OpenCV*, *pyplot* z *matplotlib* i *numpy*.\n",
        "        import cv2\n",
        "        from matplotlib import pyplot as plt\n",
        "        import numpy as np\n",
        "2. Wczytaj obrazy *lenaX.bmp* w skali szarości. *X* jest numerem wczytywanego obrazu (1 - 4).\n",
        "        I = cv2.imread('lenaX.bmp', cv2.IMREAD_GRAYSCALE)\n",
        "3. Oblicz histogram wczytanego obrazu wykorzystując funkcję `cv2.calcHist`.\n",
        "    - Pierwszym argumentem jest obraz, dla którego obliczony zostanie histogram.\n",
        "    Należy go przekazać w nawiasie kwadratowym.\n",
        "    - Drugim argumentem jest numer kanału, dla którego ma zostać obliczony histogram.\n",
        "    Również powinien być przekazany w nawiasie kwadratowym.\n",
        "    - Trzeci argument oznacza maskę, czyli obszar, dla którego ma zostać wyznaczony histogram.\n",
        "    Aby obliczyć dla całego obrazu należy przekazać *None*.\n",
        "    - Czwartym argumentem jest rozmiar histogramu (liczba przedziałów).\n",
        "    Argument powinien być w nawiasie kwadratowym. Dla pełnej skali należy przekazać wartość *256*.\n",
        "    - Ostatnim argumentem jest zakres wartości. Dla obrazów typu *uint8* powinien on wynosić *[0, 256]*.\n",
        "    - Funkcja zwraca obliczony histogram.\n",
        "4. Wyświetl wczytane obrazy i ich histogramy w jednym oknie. Użyj `plt.subplot()` w celu stworzenia siatki wykresów.\n",
        "        figLena, axsLena = plt.subplots(2, 4)\n",
        "Rozmiar utworzonego okna można zmienić wykorzystując instrukcję (uwaga w calach -  1 cal to 2.54cm):\n",
        "        figLena.set_size_inches(20, 10)\n",
        "Przykładowe wyświetlenie obrazu:\n",
        "        axsLena[0, 0].imshow(I1, 'gray', vmin=0, vmax=256)\n",
        "        axsLena[0, 0].axis('off')\n",
        "Przykładowe wyświetlenie histogramu:\n",
        "        axsLena[1, 0].plot(H1)\n",
        "        axsLena[1, 0].grid()\n",
        "5. Przeanalizuj (dokładnie) związek histogramu z jasnością i ostrością obrazu (tu rozumianą jako subiektywne odczucie)."
      ],
      "metadata": {
        "collapsed": false,
        "pycharm": {
          "name": "#%% md\n"
        },
        "id": "lFY1GGOecDvU"
      }
    },
    {
      "cell_type": "code",
      "execution_count": null,
      "metadata": {
        "pycharm": {
          "name": "#%% Zadanie 1 - wyświetlanie\n"
        },
        "id": "KweWeS_UcDvV"
      },
      "outputs": [],
      "source": [
        "import cv2\n",
        "import os\n",
        "import requests\n",
        "from matplotlib import pyplot as plt\n",
        "import numpy as np\n",
        "\n",
        "url = 'https://raw.githubusercontent.com/vision-agh/poc_sw/master/03_Histogram/'\n",
        "\n",
        "fileName = 'lena1.bmp'\n",
        "if not os.path.exists(fileName) :\n",
        "    r = requests.get(url + fileName, allow_redirects=True)\n",
        "    open(fileName, 'wb').write(r.content)\n",
        "\n",
        "fileName = 'lena2.bmp'\n",
        "if not os.path.exists(fileName) :\n",
        "    r = requests.get(url + fileName, allow_redirects=True)\n",
        "    open(fileName, 'wb').write(r.content)\n",
        "\n",
        "fileName = 'lena3.bmp'\n",
        "if not os.path.exists(fileName) :\n",
        "    r = requests.get(url + fileName, allow_redirects=True)\n",
        "    open(fileName, 'wb').write(r.content)\n",
        "\n",
        "fileName = 'lena4.bmp'\n",
        "if not os.path.exists(fileName) :\n",
        "    r = requests.get(url + fileName, allow_redirects=True)\n",
        "    open(fileName, 'wb').write(r.content)\n",
        "\n",
        "I1 = cv2.imread('lena1.bmp', cv2.IMREAD_GRAYSCALE)\n",
        "I2 = cv2.imread('lena2.bmp', cv2.IMREAD_GRAYSCALE)\n",
        "I3 = cv2.imread('lena3.bmp', cv2.IMREAD_GRAYSCALE)\n",
        "I4 = cv2.imread('lena4.bmp', cv2.IMREAD_GRAYSCALE)\n",
        "\n",
        "figLena, axsLena = plt.subplots(2, 4)\n",
        "figLena.set_size_inches(20, 10)\n",
        "\n",
        "def show_hist(img, col):\n",
        "  hist = cv2.calcHist([img],[0],None,[256],[0,256])\n",
        "  axsLena[0, col].imshow(img, 'gray', vmin=0, vmax=256)\n",
        "  axsLena[0, col].axis('off')\n",
        "  axsLena[1, col].plot(hist)\n",
        "  axsLena[1, col].grid()\n",
        "\n",
        "show_hist(I1, 0)\n",
        "show_hist(I2, 1)\n",
        "show_hist(I3, 2)\n",
        "show_hist(I4, 3)"
      ]
    },
    {
      "cell_type": "markdown",
      "source": [
        "Ad. 5.\n",
        "Uważam, ze im bardziej zarys wykresu jest po prawej stronie, tym jaśniejszy jest obraz."
      ],
      "metadata": {
        "id": "hQnVZtxHqrUn"
      }
    },
    {
      "cell_type": "markdown",
      "source": [
        "## Rozciąganie histogramu\n",
        "\n",
        "Najprostszą metodą poprawienia jakości obrazu jest tzw. rozciągnięcie histogramu.\n",
        "Polega na przeskalowaniu wartości pikseli w obrazie tak, aby wykorzystać cały dostępny zakres [0-255] (oczywiście w przypadku obrazów w odcieniach szarości w reprezentacji 8-bitowej).\n",
        "\n",
        "1. Wczytaj obraz *hist1.bmp* w skali szarości.\n",
        "Oblicz i wyświetl histogram rozpatrywanego obrazu (na wspólnym rysunku z obrazem).\n",
        "Zwróć uwagę na ilość widocznych szczegółów.\n",
        "2. Rozciągnij histogram obrazu. W tym celu można wykorzystać funkcję `cv2.normalize`.\n",
        "    - Pierwszym argumentem funkcji jest obraz poddawany operacji.\n",
        "    - Drugim argumentem jest tablica do której zostanie wpisany wynik.\n",
        "    Należy ją najpierw zainicjalizować.\n",
        "    Najlepiej zrobić to funkcją `np.zeros`, której pierwszym argumentem jest rozmiar obrazu (`I.shape`), a drugim typ danych (`uint8`).\n",
        "    Można również przekazać `None`, a wynik przypisać do nowej zmiennej.\n",
        "    - Trzecim argumentem jest minimalna wartość po normalizacji.\n",
        "    - Czwartym argumentem jest wartość maksymalna po normalizacji.\n",
        "    - Ostatnim argumentem jest typ wykorzystanej normy (uogólnienie pojęcia długości wektora).\n",
        "    Należy wykorzystać normę `cv2.NORM_MINMAX`.\n",
        "3. Wyświetl obraz oryginalny, po wykonanej operacji oraz ich histogramy.\n",
        "4. Czy ilość \"widocznych\" szczegółów uległa zmianie?"
      ],
      "metadata": {
        "collapsed": false,
        "pycharm": {
          "name": "#%% md\n"
        },
        "id": "yvrZfMJZcDvV"
      }
    },
    {
      "cell_type": "code",
      "execution_count": null,
      "outputs": [],
      "source": [
        "fileName = 'hist1.bmp'\n",
        "if not os.path.exists(fileName) :\n",
        "    r = requests.get(url + fileName, allow_redirects=True)\n",
        "    open(fileName, 'wb').write(r.content)\n",
        "\n",
        "fileName = 'hist2.bmp'\n",
        "if not os.path.exists(fileName) :\n",
        "    r = requests.get(url + fileName, allow_redirects=True)\n",
        "    open(fileName, 'wb').write(r.content)\n",
        "\n",
        "fileName = 'hist3.bmp'\n",
        "if not os.path.exists(fileName) :\n",
        "    r = requests.get(url + fileName, allow_redirects=True)\n",
        "    open(fileName, 'wb').write(r.content)\n",
        "\n",
        "fileName = 'hist4.bmp'\n",
        "if not os.path.exists(fileName) :\n",
        "    r = requests.get(url + fileName, allow_redirects=True)\n",
        "    open(fileName, 'wb').write(r.content)\n",
        "\n",
        "H1 = cv2.imread('hist1.bmp', cv2.IMREAD_GRAYSCALE)\n",
        "H2 = cv2.imread('hist2.bmp', cv2.IMREAD_GRAYSCALE)\n",
        "H3 = cv2.imread('hist3.bmp', cv2.IMREAD_GRAYSCALE)\n",
        "H4 = cv2.imread('hist4.bmp', cv2.IMREAD_GRAYSCALE)\n",
        "\n",
        "figHist, axsHist = plt.subplots(4, 4)\n",
        "figHist.set_size_inches(20, 10)\n",
        "\n",
        "def show_hist2(img, col):\n",
        "  hist = cv2.calcHist([img],[0],None,[256],[0,256])\n",
        "  norm = np.zeros(img.shape, dtype=np.uint8)\n",
        "  final = cv2.normalize(img,  norm, 0, 255, cv2.NORM_MINMAX)\n",
        "  hist2 = cv2.calcHist([final],[0],None,[256],[0,256])\n",
        "  axsHist[0, col].imshow(img, 'gray', vmin=0, vmax=256)\n",
        "  axsHist[0, col].axis('off')\n",
        "  axsHist[1, col].plot(hist)\n",
        "  axsHist[1, col].grid()\n",
        "  axsHist[2, col].imshow(final, 'gray', vmin=0, vmax=256)\n",
        "  axsHist[2, col].axis('off')\n",
        "  axsHist[3, col].plot(hist2)\n",
        "  axsHist[3, col].grid()\n",
        "\n",
        "show_hist2(H1, 0)\n",
        "show_hist2(H2, 1)\n",
        "show_hist2(H3, 2)\n",
        "show_hist2(H4, 3)"
      ],
      "metadata": {
        "pycharm": {
          "name": "#%% Zadanie 2 - rozciąganie\n"
        },
        "id": "9dmix38-cDvW"
      }
    },
    {
      "cell_type": "markdown",
      "source": [
        "Ad. 4.\n",
        "Ilość widocznych szczegółów zwiększyła się."
      ],
      "metadata": {
        "id": "Lxb9Zcb4veGd"
      }
    },
    {
      "cell_type": "markdown",
      "source": [
        "## Wyrównywanie histogramu\n",
        "\n",
        "<div style=\"text-align: justify\">\n",
        "Bardziej zaawansowaną metodą jest tzw. wyrównywanie histogramu (ang. *histogram equalization – HE*).\n",
        "Idea jest następująca: z punktu widzenia lepszego wykorzystania dostępnych poziomów jasności pożądane jest rozciągnięcie \"szczytów\" histogramu, a~skompresowanie \"dolin\" tak, aby taka sama liczba pikseli reprezentowana była przez każdy z dostępnych poziomów jasności (a przynjamniej przybliżona).\n",
        "Warto zwrócić uwagę, że takie przekształcenie powoduje częściową utratę informacji o szczegółach w obszarach \"dolin\".\n",
        "Inaczej mówiąc, dążymy do sytuacji, aby histogram był względnie jednostajny.\n",
        "Operacją, która pozwala wykonać wyrównywanie histogramu, jest przekształcenie LUT z funkcją przejścia w postaci histogramu skumulowanego danego obrazu.</div><br>\n",
        "\n",
        "<div style=\"text-align: justify\">\n",
        "Histogram skumulowany to funkcja obliczona na podstawie histogramu.\n",
        "Jej pierwszy element to liczba pikseli o odcieniu $0$.\n",
        "Kolejne wartości to liczba pikseli o odcieniach od $0$ do $n$.</div>\n",
        "\n",
        "\\begin{equation}\n",
        "C(n) = \\sum_{i=0}^{n} h(i)\n",
        "\\end{equation}\n",
        "\n",
        "<div style=\"text-align: justify\">\n",
        "Jeżeli histogram jest w postaci znormalizowanej (gęstość rozkładu prawdopodobieństwa) to histogram skumulowany stanowi dystrybuantę rozkładu prawdopodobieństwa.</div><br>\n",
        "\n",
        "1. Wyznacz histogram skumulowany dla obrazu *hist1.bmp*.\n",
        "W tym celu wykorzystaj metodę `cumsum` dla histogramu wczytanego obrazu.\n",
        "Nie przyjmuje ona żadnych argumentów, a zwraca skumulowane wartości tablicy, dla której została użyta.\n",
        "Histogram należy wyliczyć dla **obrazka wejściowego**, a nie dla wyniku rozciągania.\n",
        "2. Histogram skumulowany wyświetl razem z histogramem zwykłym na jednym wykresie (nie obok siebie).\n",
        "Na potrzeby wyświetlenia przeskaluj histogram skumulowany tak, by miał taką samą wartość maksymalną jak zwykły histogram.\n",
        "W tym celu wykorzystaj metodę `max`.\n",
        "3. Wyświetlenie kilku linii na jednym wykresie może być zrealizowane w następujący sposób:\n",
        "        figHistCum, axsHistCum = plt.subplots()\n",
        "\n",
        "        axsHistCum.plot(HHist)\n",
        "        axsHistCum.plot(CHistNorm)\n",
        "        axsHistCum.grid()\n",
        "4. Teraz zaimplementuj klasyczny algorytm wyrównywania histogramu.\n",
        "Wykorzystać należy obliczony histogram skumulowany.\n",
        "Należy go przeskalować w taki sposób aby na jego podstawie zrealizować przekształcenie LUT, czyli do zakresu 0 - 255.\n",
        "\n",
        ">Uwaga. Opisany algorytm wyrównywania histogramu jest wersją uproszczoną.\n",
        ">W wersji pełnej należy podczas skalowania tablicy przekodowań LUT pominąć elementy równe *0*.\n",
        ">\n",
        ">W tym celu należy wykorzystać funkcje `np.ma.masked_equal` i `np.ma.filled`.\n",
        ">Pierwsza służy do ukrywania elementów tablicy, natomiast druga zamienia ukryte elementy na podaną wartość.\n",
        ">W tym przypadku elementem ukrywanym i wpisywaną wartością byłoby *0*.\n",
        "\n",
        "5. Na kolejnym rysunku wyświetl obrazek po przekształceniu, jego histogram oraz histogram skumulowany.\n",
        "Co szczególnego można powiedzieć o jego histogramie i histogramie skumulowanym?\n",
        "6. W bibliotece *OpenCV* dostępna jest funkcja wykonująca wyrównywanie histogramu `cv2.equalizeHist`.\n",
        "Jej argumentem jest obraz, którego histogram zostanie wyrównany. Zwraca natomiast obraz wynikowy.\n",
        "Na kolejnym rysunku wyświetl wynik funkcji, jego histogram oraz histogram skumulowany.\n",
        "7. W wykorzystywanej bibliotece zaimplementowana jest również metoda adaptacyjnego wyrównywania histogramu algorytmem CLAHE (ang. *Contrast Limited Adaptive Histogram Equalization*}.\n",
        "   Kilka słów wyjaśnienia.\n",
        "   Wadą poznanej metody HE jest jej \"globalność\" rozumiana jako nieuwzględnianie lokalnych właściwości obrazu.\n",
        "   Dlatego też powstała metoda adaptacyjnego wyrównywania histogramu (AHE).\n",
        "   Jest ona spotykana w dwóch wariantach:\n",
        "   - dla każdego piksela niezależnie, w pewnym jego otoczeniu, wyznaczany jest histogram i przeprowadzane wyrównywanie.\n",
        "     Jak nietrudno się domyślić rozwiązanie jest dość kosztowne obliczeniowo.\n",
        "   - obraz wejściowy dzielony jest na nienachodzące na siebie prostokątne okna.\n",
        "     W każdym z okien obliczany jest histogram i przeprowadzane jest wyrównywanie.\n",
        "     W celu eliminacji błędów na granicy okien, stosuje się interpolację.\n",
        "\n",
        "   Metoda AHE ma jednak tą wadę, że w obszarach jednorodnych wzmacnia szum.\n",
        "   Dlatego też zaproponowano rozwiązanie CLAHE, które zakłada ograniczenie kontrastu (CL).\n",
        "   W metodzie definiuje się maksymalną wartość danego przedziału histogramu (próg ograniczenia kontrastu).\n",
        "   Piksele, które przekraczają próg są następnie równomiernie rozdzielane pomiędzy poszczególne przedziały.\n",
        "   Bardziej szczegółowy opis obu metod dostępny jest na [Wikipedii](https://en.wikipedia.org/wiki/Adaptive_histogram_equalization).\n",
        "\n",
        "8.W celu użycia algorytmu należy wywołać funkcję `cv2.createCLAHE`.\n",
        "    - Pierwszym parametrem jest próg ograniczenia kontrastu.\n",
        "    - Drugi parametr definiuje na ile prostokątów zostanie podzielony obraz w rzęch i kolumnach.\n",
        "    - Zwracany jest zainicjalizowany *smart pointer* do klasy `cv::CLAHE`.\n",
        "9. Aby wykonać wyrównywanie należy użyć metody `apply`.\n",
        "Jej argumentem jest obraz wejściowy. Zwracany jest obraz o zmodyfikowanym histogramie.\n",
        "10. Przetestuj różne parametry algorytmu CLAHE.\n",
        "11. W kolejnym etapie należy przetestować operacje (rozciąganie, wyrównywanie (HE) i adaptacyjne wyrównywanie CLAHE)  na histogramie dla obrazów rzeczywistych. *hist2.bmp*, *hist3.bmp*, *hist4.jpg*.\n",
        "W jednym oknie wyświetl: obraz oryginalny, rozciąganie, wyrównywanie HE oraz wyrównywanie CLAHE."
      ],
      "metadata": {
        "collapsed": false,
        "pycharm": {
          "name": "#%% md\n"
        },
        "id": "qQYQVoOEcDvW"
      }
    },
    {
      "cell_type": "code",
      "execution_count": null,
      "outputs": [],
      "source": [
        "\n",
        "# Ad. 1, 2, 3\n",
        "figHist2, axsHist2 = plt.subplots()\n",
        "\n",
        "hist = cv2.calcHist([H1],[0],None,[256],[0,256])\n",
        "CHistNorm = hist.cumsum()\n",
        "CHistNorm = CHistNorm * (max(hist)/max(CHistNorm))\n",
        "axsHist2.plot(hist)\n",
        "axsHist2.plot(CHistNorm)\n",
        "axsHist2.grid()"
      ],
      "metadata": {
        "pycharm": {
          "name": "#%% Zadanie 3 - histogram skumulowany\n"
        },
        "id": "Hthp3Q0WcDvX"
      }
    },
    {
      "cell_type": "code",
      "execution_count": null,
      "outputs": [],
      "source": [
        "CHistNorm2 = np.ma.masked_equal(CHistNorm2, 0)\n",
        "CHistNorm2 = CHistNorm2.filled(fill_value=0)\n",
        "CHistNorm2 = CHistNorm * (255/max(CHistNorm))\n",
        "print(max(CHistNorm2))"
      ],
      "metadata": {
        "pycharm": {
          "name": "#%% Zadanie 3 - wyrównywanie\n"
        },
        "id": "xxEuLreccDvY"
      }
    },
    {
      "cell_type": "code",
      "execution_count": null,
      "outputs": [],
      "source": [
        "# Ad. 5\n",
        "norm1 = np.zeros(H1.shape, dtype=np.uint8)\n",
        "final1 = cv2.normalize(H1,  norm1, 0, 255, cv2.NORM_MINMAX)\n",
        "hist3 = cv2.calcHist([final1],[0],None,[256],[0,256])\n",
        "CHistNorm3 = hist3.cumsum()\n",
        "CHistNorm3 = CHistNorm3 * (max(hist3)/max(CHistNorm3))\n",
        "\n",
        "figHist3, axsHist3 = plt.subplots(2, 1)\n",
        "figHist3.set_size_inches(5, 10)\n",
        "\n",
        "axsHist3[0].imshow(final1, 'gray', vmin=0, vmax=256)\n",
        "axsHist3[0].axis('off')\n",
        "axsHist3[1].plot(hist3)\n",
        "axsHist3[1].plot(CHistNorm3)\n",
        "axsHist3[1].grid()"
      ],
      "metadata": {
        "pycharm": {
          "name": "#%% Zadanie 3 - wyrównywanie OpenCV\n"
        },
        "id": "EajsxfqncDvY"
      }
    },
    {
      "cell_type": "markdown",
      "source": [
        "Histogram skumulowany rośnie wraz z osią X i im większy jest wzrost histogramu tym gwałtowniejszy wzrost pojawia się na histogramie skumulowanym."
      ],
      "metadata": {
        "id": "y7WBjUusK-ua"
      }
    },
    {
      "cell_type": "code",
      "execution_count": null,
      "outputs": [],
      "source": [
        "# Ad. 6.\n",
        "H1_eq = cv2.equalizeHist(H1)\n",
        "res = np.hstack((H1,H1_eq))\n",
        "\n",
        "figHist4, axsHist4 = plt.subplots(2, 2)\n",
        "figHist4.set_size_inches(10, 10)\n",
        "\n",
        "axsHist4[0,0].imshow(H1, 'gray', vmin=0, vmax=256)\n",
        "axsHist4[0,0].axis('off')\n",
        "axsHist4[1,0].plot(hist)\n",
        "axsHist4[1,0].grid()\n",
        "axsHist4[1,0].plot(CHistNorm)\n",
        "axsHist4[1,0].grid()\n",
        "\n",
        "axsHist4[0,1].imshow(H1_eq, 'gray', vmin=0, vmax=256)\n",
        "axsHist4[0,1].axis('off')\n",
        "\n",
        "hist_eq = cv2.calcHist([H1_eq],[0],None,[256],[0,256])\n",
        "CHistNorm3 = hist_eq.cumsum()\n",
        "CHistNorm3 = CHistNorm3 * (max(hist_eq)/max(CHistNorm3))\n",
        "\n",
        "\n",
        "axsHist4[1,1].plot(hist_eq)\n",
        "axsHist4[1,1].grid()\n",
        "axsHist4[1,1].plot(CHistNorm3)\n",
        "axsHist4[1,1].grid()"
      ],
      "metadata": {
        "pycharm": {
          "name": "#%% Zadanie 3 - CLAHE\n"
        },
        "id": "xOEFxbVrcDvY"
      }
    },
    {
      "cell_type": "code",
      "source": [
        "# Ad. 7, 8, 9\n",
        "def cmp_clahe(image, par1, par2):\n",
        "  clahe = cv2.createCLAHE(clipLimit=par1, tileGridSize=par2)\n",
        "  cl1 = clahe.apply(image)\n",
        "  hist_clahe = cv2.calcHist([cl1],[0],None,[256],[0,256])\n",
        "  CHistNorm_clahe = hist_clahe.cumsum()\n",
        "  CHistNorm_clahe = CHistNorm_clahe * (max(hist_clahe)/max(CHistNorm_clahe))\n",
        "\n",
        "  figHist_clahe, axsHist_clahe = plt.subplots(2, 1)\n",
        "  figHist_clahe.set_size_inches(5, 10)\n",
        "  axsHist_clahe[0].imshow(cl1, 'gray', vmin=0, vmax=256)\n",
        "  axsHist_clahe[0].axis('off')\n",
        "  axsHist_clahe[1].plot(hist_clahe)\n",
        "  axsHist_clahe[1].grid()\n",
        "  axsHist_clahe[1].plot(CHistNorm_clahe)\n",
        "  axsHist_clahe[1].grid()\n",
        "\n",
        "cmp_clahe(H1, 2.0, (8,8))\n",
        "cmp_clahe(H1, 1.0, (4,4))\n",
        "cmp_clahe(H1, 16.0, (32,32))"
      ],
      "metadata": {
        "id": "Mqd2H2m0IxRM"
      },
      "execution_count": null,
      "outputs": []
    },
    {
      "cell_type": "code",
      "source": [
        "# Ad. 10\n",
        "figHist_image, axsHist_image = plt.subplots(4, 3)\n",
        "figHist_image.set_size_inches(15, 15)\n",
        "\n",
        "def show_different_images(image, col):\n",
        "  axsHist_image[0, col].imshow(image, 'gray', vmin=0, vmax=256)\n",
        "  axsHist_image[0, col].axis('off')\n",
        "\n",
        "  norm1 = np.zeros(image.shape, dtype=np.uint8)\n",
        "  normalize = cv2.normalize(image,  norm1, 0, 255, cv2.NORM_MINMAX)\n",
        "  axsHist_image[1, col].imshow(normalize, 'gray', vmin=0, vmax=256)\n",
        "  axsHist_image[1, col].axis('off')\n",
        "\n",
        "  image_eq = cv2.equalizeHist(image)\n",
        "  axsHist_image[2, col].imshow(image_eq, 'gray', vmin=0, vmax=256)\n",
        "  axsHist_image[2, col].axis('off')\n",
        "\n",
        "  clahe = cv2.createCLAHE(clipLimit=2.0, tileGridSize=(8,8))\n",
        "  cl1 = clahe.apply(image)\n",
        "  axsHist_image[3, col].imshow(cl1, 'gray', vmin=0, vmax=256)\n",
        "  axsHist_image[3, col].axis('off')\n",
        "\n",
        "show_different_images(H2,0)\n",
        "show_different_images(H3,1)\n",
        "show_different_images(H4,2)\n"
      ],
      "metadata": {
        "id": "BY7rbtdzL8fH",
        "collapsed": true
      },
      "execution_count": null,
      "outputs": []
    },
    {
      "cell_type": "markdown",
      "source": [],
      "metadata": {
        "id": "OmC1tzecKcJP"
      }
    },
    {
      "cell_type": "markdown",
      "source": [
        "## Histogram dla obrazów kolorowych i jego wyrównywanie\n",
        "\n",
        "1. Wczytaj obraz *lenaRGB.bmp*.\n",
        "2. Wykonaj konwersję przestrzeni barw z BGR do RGB.\n",
        "3. Wyświetl wczytany obraz oraz histogram dla każdej składowej przestrzeni barw.\n",
        "W tym celu można użyć drugiego argumentu wykorzystywanej funkcji (numer kanału).\n",
        "4. Wykonaj wyrównywanie dla każdej składowej obrazu. Połącz otrzymane składowe w nowy obraz i wyświetl go.\n",
        "Jaka jest zasadnicza wada takiego podejścia?\n",
        "5. Przekształć obraz wejściowy do przestrzeni HSV (flaga `cv2.COLOR_BGR2HSV`).\n",
        "Wyświetl histogramy poszczególnych składowych.\n",
        "Manipulacji dokonujemy na składowej odpowiadającej za jasność, czyli V.\n",
        "Wykonaj wyrównywanie histogramu dla tej składowej.\n",
        "Dokonaj podmiany składowej V i wyświetl rezultat operacji.\n",
        "Uprzednio przeprowadź konwersję HSV->RGB (flaga `cv2.COLOR_HSV2RGB`).\n",
        "6. Wykonaj te same operacje dla obrazu *jezioro.jpg*."
      ],
      "metadata": {
        "collapsed": false,
        "pycharm": {
          "name": "#%% md\n"
        },
        "id": "C9WYAOJTcDvZ"
      }
    },
    {
      "cell_type": "code",
      "execution_count": null,
      "outputs": [],
      "source": [
        "fileName1 = 'lenaRGB.bmp'\n",
        "if not os.path.exists(fileName1) :\n",
        "    r = requests.get(url + fileName1, allow_redirects=True)\n",
        "    open(fileName1, 'wb').write(r.content)\n",
        "\n",
        "fileName2 = 'jezioro.jpg'\n",
        "if not os.path.exists(fileName2) :\n",
        "    r = requests.get(url + fileName2, allow_redirects=True)\n",
        "    open(fileName2, 'wb').write(r.content)"
      ],
      "metadata": {
        "pycharm": {
          "name": "#%% Zadanie 4 - histogram\n"
        },
        "id": "y5T31GV3cDvZ"
      }
    },
    {
      "cell_type": "code",
      "execution_count": null,
      "outputs": [],
      "source": [
        "def show_image_with_hist(image):\n",
        "\n",
        "  lena_hist_B = cv2.calcHist([image],[0],None,[256],[0,256])\n",
        "  lena_hist_B_CHistNorm = lena_hist_B.cumsum()\n",
        "  lena_hist_B_CHistNorm = lena_hist_B_CHistNorm * (max(lena_hist_B)/max(lena_hist_B_CHistNorm))\n",
        "\n",
        "  lena_hist_G = cv2.calcHist([image],[1],None,[256],[0,256])\n",
        "  lena_hist_G_CHistNorm = lena_hist_G.cumsum()\n",
        "  lena_hist_G_CHistNorm = lena_hist_G_CHistNorm * (max(lena_hist_G)/max(lena_hist_G_CHistNorm))\n",
        "\n",
        "  lena_hist_R = cv2.calcHist([image],[2],None,[256],[0,256])\n",
        "  lena_hist_R_CHistNorm = lena_hist_R.cumsum()\n",
        "  lena_hist_R_CHistNorm = lena_hist_R_CHistNorm * (max(lena_hist_R)/max(lena_hist_R_CHistNorm))\n",
        "\n",
        "  figHist_lena, axsHist_lena = plt.subplots(4, 1)\n",
        "  figHist_lena.set_size_inches(10, 10)\n",
        "\n",
        "  axsHist_lena[0].imshow(image, 'gray', vmin=0, vmax=256)\n",
        "  axsHist_lena[0].axis('off')\n",
        "\n",
        "  axsHist_lena[1].plot(lena_hist_B)\n",
        "  axsHist_lena[1].plot(lena_hist_B_CHistNorm)\n",
        "  axsHist_lena[1].set_title(\"Blue\")\n",
        "  axsHist_lena[1].grid()\n",
        "\n",
        "  axsHist_lena[2].plot(lena_hist_G)\n",
        "  axsHist_lena[2].plot(lena_hist_G_CHistNorm)\n",
        "  axsHist_lena[2].set_title(\"Green\")\n",
        "  axsHist_lena[2].grid()\n",
        "\n",
        "  axsHist_lena[3].plot(lena_hist_R)\n",
        "  axsHist_lena[3].plot(lena_hist_R_CHistNorm)\n",
        "  axsHist_lena[3].set_title(\"Red\")\n",
        "  axsHist_lena[3].grid()\n"
      ],
      "metadata": {
        "pycharm": {
          "name": "#%% Zadanie 4 - wyrównanie\n"
        },
        "id": "vzj4kEtOcDva"
      }
    },
    {
      "cell_type": "code",
      "execution_count": null,
      "outputs": [],
      "source": [
        "lena_img = cv2.imread(fileName1)\n",
        "lena_img_cvt = cv2.cvtColor(lena_img, cv2.COLOR_BGR2RGB)\n",
        "# Ad. 3.\n",
        "show_image_with_hist(lena_img_cvt)\n",
        "\n",
        "lena_img_cvt_eq = np.zeros(lena_img_cvt.shape, dtype=np.uint8)\n",
        "lena_img_cvt_eq[:, :, 0] = cv2.equalizeHist(lena_img_cvt[:, :, 0])\n",
        "lena_img_cvt_eq[:, :, 1] = cv2.equalizeHist(lena_img_cvt[:, :, 1])\n",
        "lena_img_cvt_eq[:, :, 2] = cv2.equalizeHist(lena_img_cvt[:, :, 2])\n",
        "#Ad. 4.\n",
        "show_image_with_hist(lena_img_cvt_eq)\n",
        "\n",
        "lena_img_hsv = cv2.cvtColor(lena_img, cv2.COLOR_BGR2RGB)\n",
        "# Ad.5.1\n",
        "show_image_with_hist(lena_img_hsv)\n",
        "\n",
        "lena_img_hsv_eq = np.copy(lena_img_hsv)\n",
        "lena_img_hsv_eq[:, :, 2] = cv2.equalizeHist(lena_img_hsv[:, :, 2])\n",
        "lena_img_hsv = cv2.cvtColor(lena_img_hsv_eq, cv2.COLOR_HSV2RGB)\n",
        "# Ad.5.2\n",
        "show_image_with_hist(lena_img_hsv)\n"
      ],
      "metadata": {
        "pycharm": {
          "name": "#%% Zadanie 4 - HSV histogram\n"
        },
        "id": "sExCMbOYcDva"
      }
    },
    {
      "cell_type": "markdown",
      "source": [
        "Ad. 4. Histogramy poszczególnych barw stały się podobne, a histogram skumulowany jest taki sam."
      ],
      "metadata": {
        "id": "8vL0ptFILxQQ"
      }
    },
    {
      "cell_type": "code",
      "execution_count": null,
      "outputs": [],
      "source": [
        "# Ad. 6.\n",
        "jezioro_img = cv2.imread(fileName2)\n",
        "jezioro_img_cvt = cv2.cvtColor(jezioro_img, cv2.COLOR_BGR2RGB)\n",
        "\n",
        "show_image_with_hist(jezioro_img_cvt)\n",
        "\n",
        "\n",
        "jezioro_img_cvt_eq = np.zeros(jezioro_img_cvt.shape, dtype=np.uint8)\n",
        "jezioro_img_cvt_eq[:, :, 0] = cv2.equalizeHist(jezioro_img_cvt[:, :, 0])\n",
        "jezioro_img_cvt_eq[:, :, 1] = cv2.equalizeHist(jezioro_img_cvt[:, :, 1])\n",
        "jezioro_img_cvt_eq[:, :, 2] = cv2.equalizeHist(jezioro_img_cvt[:, :, 2])\n",
        "\n",
        "show_image_with_hist(jezioro_img_cvt_eq)\n",
        "\n",
        "jezioro_img_hsv = cv2.cvtColor(jezioro_img, cv2.COLOR_BGR2RGB)\n",
        "\n",
        "show_image_with_hist(jezioro_img_hsv)\n",
        "\n",
        "jezioro_img_hsv_eq = np.copy(jezioro_img_hsv)\n",
        "jezioro_img_hsv_eq[:, :, 2] = cv2.equalizeHist(jezioro_img_hsv[:, :, 2])\n",
        "jezioro_img_hsv = cv2.cvtColor(jezioro_img_hsv_eq, cv2.COLOR_HSV2RGB)\n",
        "\n",
        "show_image_with_hist(jezioro_img_hsv)"
      ],
      "metadata": {
        "pycharm": {
          "name": "#%% Zadanie 4 - HSV wyrównanie\n"
        },
        "id": "AGV4sG7TcDvb"
      }
    }
  ],
  "metadata": {
    "kernelspec": {
      "display_name": "Python 3",
      "language": "python",
      "name": "python3"
    },
    "language_info": {
      "codemirror_mode": {
        "name": "ipython",
        "version": 3
      },
      "file_extension": ".py",
      "mimetype": "text/x-python",
      "name": "python",
      "nbconvert_exporter": "python",
      "pygments_lexer": "ipython3",
      "version": "3.8.3"
    },
    "colab": {
      "provenance": []
    }
  },
  "nbformat": 4,
  "nbformat_minor": 0
}