{
  "cells": [
    {
      "cell_type": "markdown",
      "metadata": {
        "id": "Q7xyi7-phWUP"
      },
      "source": [
        "# Binaryzacja\n",
        "\n",
        "\n",
        "### Cel:\n",
        "- zapoznanie z segmentacją obiektów poprzez binaryzację,\n",
        "- zapoznanie z binaryzacją na podstawie histogramu (globalną),\n",
        "- zapoznanie z metodami automatycznego wyznaczania progu Ots'u, Kitller'a i Kapur'a,\n",
        "- zapoznanie z binaryzacją lokalną (na podstawie średniej i metodą Sauvola),\n",
        "- zapoznanie z binaryzacją dwuprogową,\n",
        "- zadanie domowe: zapoznanie z adaptacyjną binaryzacją lokalną.\n",
        "\n",
        "### Binaryzacja - wprowadzenie\n",
        "\n",
        "Jednym z najważniejszych etapów podczas analizy obrazów jest segmentacja -- podział obrazu na rejony według pewnego kryterium  -- jasności, koloru, tekstury.\n",
        "Najprostszą (i też najczęściej wykorzystywaną) metodą segmentacji jest **binaryzacja**. \n",
        "Do jej głównych zalet zalicza się: intuicyjność, prostotę, łatwość implementacji i szybkość wykonywania. \n",
        "Jest ona etapem wielu algorytmów analizy obrazów. \n",
        "Pozwala na znaczną redukcję informacji w obrazie (np. dla wejściowego obrazu w skali szarości z zakresu 0-255 do 0-1).\n",
        " \n",
        "Binaryzacja najczęściej realizowana jest poprzez progowanie. \n",
        "Na przykład: dla obrazu w odcieniach szarości ustala się próg na poziomie $k$. \n",
        "Wszystkie piksele o wartości (jasności) większej od $k$ zostają uznane za obiekty, a pozostałe za tło. \n",
        "Oczywiście podejście takie daje się zastosować wtedy, gdy obiekty mają istotnie różną jasność od otaczającego je tła.\n"
      ]
    },
    {
      "cell_type": "markdown",
      "metadata": {
        "id": "uSiKTJUrhWUT"
      },
      "source": [
        "### Binaryzacja na podstawie histogramu\n",
        "\n",
        "W rozdziale zostanie zademonstrowane wyznaczanie progu na podstawie \"ręcznej\" analizy histogramu oraz wpływ szumu i niejednorodnego oświetlenia sceny na proces binaryzacji.\n",
        "\n",
        "1. Potrzebne w ćwiczeniu moduły są już wpisane - zwróć uwagę pod jakimi nazwami będą one widziane (plt, cv2, np).\n",
        "\n",
        "2. Wczytaj obraz _coins.png_ w trybie odcieni szarości. Wyświetl go. \n",
        "Wyznacz jego histogram (funkcja `np.histogram` lub 'cv2.calcHist') i wyświetl go.\n",
        "Przy wyświetlaniu histogramu warto zwiększyć liczbę wyświetlanych wartości na osi x oraz powiększyć sam wykres (funkcje *plt.xticks(np.arange(0, 256, 20.0))* oraz *plt.rcParams[\"figure.figsize\"] = (10,5)*.\n",
        "Uwaga. Proszę powyższą funkcjonalność zaimplementować jako funkcję, gdyż przyda się w dalszej części ćwiczenia.\n",
        "      \n"
      ]
    },
    {
      "cell_type": "code",
      "execution_count": null,
      "metadata": {
        "id": "Fm3UZfVHhWUU"
      },
      "outputs": [],
      "source": [
        "import cv2\n",
        "import os\n",
        "import requests\n",
        "from matplotlib import pyplot as plt\n",
        "import numpy as np\n",
        "\n",
        "url = 'https://raw.githubusercontent.com/vision-agh/poc_sw/master/04_Thresholding/'\n",
        "\n",
        "fileNames = [\"coins.png\", \"rice.png\", \"catalogue.png\", \"bart.png\", \"figura1.png\", \"figura2.png\", \"figura3.png\", \"figura4.png\", \"T.png\"]\n",
        "for fileName in fileNames:\n",
        "  if not os.path.exists(fileName):\n",
        "      r = requests.get(url + fileName, allow_redirects=True)\n",
        "      open(fileName, 'wb').write(r.content)"
      ]
    },
    {
      "cell_type": "code",
      "execution_count": null,
      "metadata": {
        "id": "WklKeId0v77A"
      },
      "outputs": [],
      "source": [
        "\n",
        "def zad2(img):\n",
        "  HCoins = cv2.calcHist([img],[0],None,[256],[0,256])\n",
        "\n",
        "  figCoins, axsCoins = plt.subplots()\n",
        "  plt.plot(HCoins)\n",
        "  plt.xticks(np.arange(0, 256, 20.0))\n",
        "  plt.rcParams[\"figure.figsize\"] = (10,5)\n",
        "  plt.show()\n",
        "\n",
        "img = cv2.imread(\"coins.png\", cv2.IMREAD_GRAYSCALE)\n",
        "plt.imshow(img, 'gray')"
      ]
    },
    {
      "cell_type": "code",
      "execution_count": null,
      "metadata": {
        "id": "89vkgcro5CsW"
      },
      "outputs": [],
      "source": [
        "zad2(img)"
      ]
    },
    {
      "cell_type": "markdown",
      "metadata": {
        "id": "of5GeSFVhWUW"
      },
      "source": [
        "3. Wizualna analiza histogramu pozwala zauważyć dwa maksima - jedno odpowiadające poziomowi jasności tła (które w tym przypadku jest względnie jednolite - ciemnoszare) i drugie odpowiadające monetom.\n",
        "\n",
        "Na podstawie histogramu wyznacz próg i wykonaj binaryzację:\n",
        "- wykorzystaj fakt, że dla macierzy *numpy* można wykonać operację porównania wszystkich jej wartości z liczbą  - wynikiem jest macierz zawierająca wartości *True* i *False*, którą można przekonwertować metodą macierz.astype(np.int) na macierz z wartościami 1 i 0 (aczkolwiek nie jest to tu konieczne).\n",
        "- wynik binaryzacji wyświetl,\n",
        "- spróbuj dobrać jak najlepszy próg binaryzacji. Jako \"kryterium jakości\" przyjmij kształty monet - dla poprawnie dobranego progu powinny to być wypełnione koła.\n",
        "\n",
        "Uwaga. Proszę powyższą funkcjonalność zaimplementować jako funkcję, gdyż przyda się w dalszej części ćwiczenia."
      ]
    },
    {
      "cell_type": "code",
      "execution_count": null,
      "metadata": {
        "id": "CNaudNIHhWUX"
      },
      "outputs": [],
      "source": [
        "def show_bin(tresh, img_name):\n",
        "  img = cv2.imread(img_name, cv2.IMREAD_GRAYSCALE)\n",
        "  ImgBin = (img > tresh).astype(int)\n",
        "  plt.imshow(ImgBin, 'gray')\n",
        "  plt.show()\n",
        "\n",
        "tresholdCoins = 80\n",
        "show_bin(tresholdCoins, \"coins.png\")"
      ]
    },
    {
      "cell_type": "markdown",
      "metadata": {
        "id": "2Fpfktw9hWUX"
      },
      "source": [
        "4. Na \"stopień trudności\" przeprowadzenia binaryzacji największy wpływ mają dwa czynniki:\n",
        "- szum,\n",
        "- niejednorodne oświetlenie.\n",
        "\t  \n",
        "Użyj obrazy:\n",
        " - _figura1.png_ (bez zaszumienia),\n",
        " - _figura2.png_ (dodany szum Gaussowski o średniej 0 i odchyleniu standardowym 10),\n",
        " - _figura3.png_ (dodany szum Gaussowski o średniej 0 i odchyleniu standardowym 50),\n",
        " - _figura4.png_ (dodany gradient oświetlenia -- symulacja oświetlenia niejednorodnego) i wyświetl ich histogramy (wykorzystaj funkcję z poprzedniego punktu).\n"
      ]
    },
    {
      "cell_type": "code",
      "execution_count": null,
      "metadata": {
        "id": "5PVhm3wghWUX"
      },
      "outputs": [],
      "source": []
    },
    {
      "cell_type": "code",
      "execution_count": null,
      "metadata": {
        "id": "foTQ_eTT5jmC"
      },
      "outputs": [],
      "source": [
        "img = cv2.imread(\"figura1.png\", cv2.IMREAD_GRAYSCALE)\n",
        "plt.imshow(img, 'gray')"
      ]
    },
    {
      "cell_type": "code",
      "execution_count": null,
      "metadata": {
        "id": "H2OIrTWH5tlc"
      },
      "outputs": [],
      "source": [
        "zad2(img)"
      ]
    },
    {
      "cell_type": "code",
      "execution_count": null,
      "metadata": {
        "id": "Lp8rDKSQ5x6B"
      },
      "outputs": [],
      "source": [
        "img = cv2.imread(\"figura2.png\", cv2.IMREAD_GRAYSCALE)\n",
        "plt.imshow(img, 'gray')"
      ]
    },
    {
      "cell_type": "code",
      "execution_count": null,
      "metadata": {
        "id": "vquR6oO450WT"
      },
      "outputs": [],
      "source": [
        "zad2(img)"
      ]
    },
    {
      "cell_type": "code",
      "execution_count": null,
      "metadata": {
        "id": "PYKG3gPL512K"
      },
      "outputs": [],
      "source": [
        "img = cv2.imread(\"figura3.png\", cv2.IMREAD_GRAYSCALE)\n",
        "plt.imshow(img, 'gray')"
      ]
    },
    {
      "cell_type": "code",
      "execution_count": null,
      "metadata": {
        "id": "kCjwE7Af52DM"
      },
      "outputs": [],
      "source": [
        "zad2(img)"
      ]
    },
    {
      "cell_type": "code",
      "execution_count": null,
      "metadata": {
        "id": "aVu-Wthq52mE"
      },
      "outputs": [],
      "source": [
        "img = cv2.imread(\"figura4.png\", cv2.IMREAD_GRAYSCALE)\n",
        "plt.imshow(img, 'gray')"
      ]
    },
    {
      "cell_type": "code",
      "execution_count": null,
      "metadata": {
        "id": "yNINyElk52ul"
      },
      "outputs": [],
      "source": [
        "zad2(img)"
      ]
    },
    {
      "cell_type": "markdown",
      "metadata": {
        "id": "BrmKxXmOhWUY"
      },
      "source": [
        "Spróbuj wyznaczyć progi binaryzacji na podstawie wyświetlonych histogramów.\n",
        "Jak dodanie szumu wypłynęło na histogram i łatwość wyznaczania progu binaryzacji?\n",
        "Czy jest to możliwe we wszystkich przypadkach?"
      ]
    },
    {
      "cell_type": "code",
      "execution_count": null,
      "metadata": {
        "id": "KXSDhgkqhWUY"
      },
      "outputs": [],
      "source": [
        "show_bin(125, \"figura1.png\")"
      ]
    },
    {
      "cell_type": "code",
      "execution_count": null,
      "metadata": {
        "id": "SrHBJ4X43wqc"
      },
      "outputs": [],
      "source": [
        "show_bin(125, \"figura2.png\")"
      ]
    },
    {
      "cell_type": "code",
      "execution_count": null,
      "metadata": {
        "id": "xMp5IKfE3xBJ"
      },
      "outputs": [],
      "source": [
        "show_bin(160, \"figura3.png\")"
      ]
    },
    {
      "cell_type": "code",
      "execution_count": null,
      "metadata": {
        "id": "yzOI1xbT3xNK"
      },
      "outputs": [],
      "source": [
        "show_bin(60, \"figura4.png\")"
      ]
    },
    {
      "cell_type": "markdown",
      "metadata": {
        "id": "nLOovXDHhWUY"
      },
      "source": [
        "\n",
        "### Automatyczne wyznaczanie progu binaryzacji\n",
        "\n",
        "W automatycznym systemie analizy obrazów (działanie bez nadzoru operatora) konieczne jest zastosowanie metody binaryzacji, która w sposób automatyczny wyznacza próg binaryzacji.\n",
        "Oczywiście można sobie wyobrazić użycie stałego progu (np. 10), ale wtedy należy zadbać o niezmienność warunków oświetleniowych, co w niektórych zastosowaniach może być problematyczne.\n",
        "\n",
        "#### Iteracyjne wyznaczenie progu\n",
        "\n",
        "Jednym z najprostszych podejść jest iteracyjna procedura wyliczania progu.\n",
        "Jako pierwsze przybliżenie progu ($k$) przyjmuje się średnia jasność na obrazie.\n",
        "Następnie, na podstawie $k$,  dzieli się obraz na dwa podobrazy $I_0$ i  $I_1$ (dwie klasy $C_0$ i $C_1$).\n",
        "Dla każdego z nich oblicza się średnią jasność: $m_0$ i $m_1$.\n",
        "Jako nowy próg przyjmuje się:\n",
        "\\begin{equation}\n",
        "\\label{eq:thresholding:mean_auto} \\tag{1}\n",
        "k_{new} = \\frac{m_0 + m_1}{2}\n",
        "\\end{equation}\n",
        "Procedurę kontynuuje się do momentu, aż różnica pomiędzy dwoma kolejnymi progami będzie mniejsza niż zadana wartość.\n",
        "\n",
        "\n",
        "**Zadanie: zaimplementować opisany powyżej algorytm.**\n",
        "\n",
        "\n",
        "Jak można zauważyć, do poprawnego działania metody potrzebne będzie obliczanie średniej jasności, również dla pewnych podobrazów.\n",
        "Wykorzystamy do tego znormalizowanych histogram:\n",
        "\\begin{equation}\n",
        "\\label{eq:p_i} \\tag{2}\n",
        "p_i = n_i/N,   \\sum_{i=0}^L p_i = 1\n",
        "\\end{equation}\n",
        "gdzie: $n_i$ liczba pikseli o jasności $i$ ($i = 0,1, ... L-1$) - histogram, $L$ - liczba poziomów jasności, $N$ - liczba pikseli na obrazie ($N = n_0 + n_1 + ... + n_{L-1}$).\n",
        "\n",
        "Jeśli podzielimy obraz na dwie klasy $C_0$ i $C_1$ (tło i obiekty albo obiekty i tło) z progiem podziału oznaczonym jako $k$, to do klasy $C_0$ należeć będą piksele o poziomach $[0,k]$, a do klasy $C1$ piksele o poziomach $[k+1,L-1]$.\n",
        "\n",
        "Wtedy prawdopodobieństwo, że piksel należy do klasy $C_0$ wynosi:\n",
        "\\begin{equation}\n",
        "\\label{eq:P_0} \\tag{3}\n",
        "P_0(k) = \\sum_{i=0}^{k} p_i\n",
        "\\end{equation}\n",
        "\n",
        "Podobnie prawdopodobieństwo, że należy do klasy $C_1$ wynosi:\n",
        "\n",
        "\\begin{equation}\n",
        "\\label{eq:P_1} \\tag{4}\n",
        "P_1(k) = \\sum_{i=k+1}^{L-1} p_i = 1 - P_0(k)\n",
        "\\end{equation}\n",
        "\n",
        "Średnią jasność pikseli należących do klasy $C_0$ można wyznaczyć na podstawie:\n",
        "\n",
        "\\begin{equation}\n",
        "\\label{eq:m_0} \\tag{5}\n",
        "m_0(k) = \\sum_{i=0}^{k} iP(i|C_0)\n",
        "\\end{equation}\n",
        "\n",
        "gdzie: $|$ oznacza prawdopodobieństwo warunkowe, a wyraz $P(i|C_0)$ - prawdopodobieństwo dla wartości $i$ pod warunkiem, że $i$ należy do klasy $C_0$.\n",
        "Równanie to jest szczególnym przypadkiem wykorzystania momentów statystycznych do wyliczania pewnych parametrów statystycznych - w tym przypadku średniej.\n",
        "\n",
        "Wykorzystując regułę Bayesa:\n",
        "\n",
        "\\begin{equation}\n",
        "\\label{eq:P_A_B} \\tag{6}\n",
        "P(A|B) = P(B|A)P(A)/P(B)\n",
        "\\end{equation}\n",
        "możemy zapisać:\n",
        "\n",
        "\\begin{equation}\n",
        "\\label{eq:m_0k} \\tag{7}\n",
        "m_0(k) = \\sum_{i=0}^{k} i P(C_0|i)P(i)/P(C_0)\n",
        "\\end{equation}\n",
        "Wyraz $P(C_0|i) = 1$, gdyż z założenia rozpatrujemy tylko piksele należące do klasy $C_0$.\n",
        "Wyraz $P(i)$ stanowi $i$-ty element znormalizowanego histogramu tj. $P(i) = p_i$, a $P(C_0)$ to prawdopodobieństwo przynależności do klasy $C_0$ określone wcześniej $P(C_0) = P_0(k)$.\n",
        "Ostatecznie możemy więc zapisać:\n",
        "\n",
        "\\begin{equation}\n",
        "\\label{eq:thresholding:meanHistC0} \\tag{8}\n",
        "m_0(k) = \\frac{1}{P_0(k)} \\sum_{i=0}^{k} i p_i\n",
        "\\end{equation}\n",
        "\n",
        "Na podstawie analogicznych rozważań można wyprowadzić wzór na średnią jasności pikseli należących do klasy $C_1$:\n",
        "\\begin{equation}\n",
        "\\label{eq:thresholding:meanHistC1}  \\tag{9}\n",
        "m_1(k) = \\frac{1}{P_1(k)} \\sum_{i=k+1}^{L-1} i p_i\n",
        "\\end{equation}\n",
        "\n",
        "Średnia jasność całego obrazu dana jest zależnością:\n",
        "\\begin{equation}\n",
        "\\label{eq:thresholding:meanHistGlobal} \\tag{10}\n",
        "m_G = \\sum_{i=0}^{L-1} ip_i\n",
        "\\end{equation}\n",
        "\n",
        "\n",
        "1. Wczytaj obraz _coins.png_. Wyświetl go.\n",
        "\n",
        "2. Wylicz histogram i histogram skumulowany (funkcja `np.cumsum`).\n",
        "   Na podstawie zależności (\\ref{eq:thresholding:meanHistGlobal}) wylicz średnią - pierwszy próg podziału $k$.\n",
        "   Uwagi:\n",
        "   - przed dalszymi obliczeniami dobrze jest usunąć zbędny wymiar tablicy z histogramem - polecenie `np.squeeze`\n",
        "    - $p_i$ to nasz znormalizowany histogram, a wartości od $0$ do $255$ można wygenerować poleceniem `np.arange(256)`,\n",
        "    - zmiast pętli `for` można wykorzystać iloczyn sklarny dwóch wektorów tj. `np.dot`.\n",
        "\n",
        "3.  W nieskończonej petli `while` wykonaj następujące kroki:\n",
        "- oblicz średnią $m_0$ -- zależność (\\ref{eq:thresholding:meanHistC0}):\n",
        "    - dla $P_0$ wystarczy wykorzystać odpowiednią wartość znormalizowanego histogramu skumulowanego, dla pozostałej części wyrażenia podobne rozwiązanie jak dla pierwszej średniej,\n",
        "- oblicz średnią $m_1$ -- zależność (\\ref{eq:thresholding:meanHistC1}),\n",
        "- oblicz nowy próg $k_{new}$ -- zależność (\\ref{eq:thresholding:mean_auto}),\n",
        "- oblicz moduł z różnicy pomiędzy $k_{new}$, a $k$ i sprawdź czy jest mniejszy od progu (np. $1$),\n",
        "- jeśli tak to zakończ obliczenia (`break`), jeśli nie to przypisz $k = k_{new}$ i kontynuuj obliczenia,\n",
        "- wyświetl próg oraz wynik binaryzacji.\n",
        "\n",
        "4. Sprawdz jak metoda dziala na obrazach _figura1.png_ do _figura4.png_. "
      ]
    },
    {
      "cell_type": "code",
      "execution_count": null,
      "metadata": {
        "id": "Vpv_w4FshWUZ"
      },
      "outputs": [],
      "source": [
        "\n",
        "def P0(k, p):\n",
        "  sum = 0\n",
        "  for i in range(k):\n",
        "    sum += p[i]\n",
        "  return sum\n",
        "\n",
        "def P1(k, p):\n",
        "  sum = 0\n",
        "  max_len = len(p)\n",
        "  for i in range(k-1, max_len):\n",
        "      sum += p[i]\n",
        "  return sum\n",
        "\n",
        "ICoins = cv2.imread(\"coins.png\", cv2.IMREAD_GRAYSCALE)\n",
        "plt.imshow(ICoins, 'gray')\n",
        "\n",
        "figHist2, axsHist2 = plt.subplots()\n",
        "\n",
        "hist = cv2.calcHist([ICoins], [0], None, [256], [0,256])\n",
        "histNorm = hist/(len(ICoins)*len(ICoins[0]))\n",
        "histSqueeze = np.squeeze(histNorm)\n",
        "\n",
        "CHistNorm = histNorm.cumsum()\n",
        "CHistNorm = CHistNorm * (max(hist)/max(CHistNorm))\n",
        "\n",
        "p = histSqueeze\n",
        "k = np.dot(np.arange(256), p)\n",
        "\n",
        "def zadBin(p, k, file_name):\n",
        "  while True:\n",
        "    \n",
        "    m0 = 0\n",
        "    for i in range(int(k+1)):\n",
        "      m0 += i*p[i]\n",
        "    m0 = m0/P0(int(k), p)\n",
        "\n",
        "    m1 = 0\n",
        "    for i in range(int(k+1), 255):\n",
        "      m1 += i*p[i]\n",
        "    m1 = m1/P1(int(k), p)\n",
        "\n",
        "    knew = (m0 + m1)/2\n",
        "    if abs(knew - k) < 1:\n",
        "      break\n",
        "    else:\n",
        "      k = knew\n",
        "\n",
        "  print(k)\n",
        "  show_bin(k, file_name)\n",
        "\n",
        "zadBin(p, k, \"coins.png\")"
      ]
    },
    {
      "cell_type": "code",
      "source": [
        "def zadBinOuter(image_name):\n",
        "  image = cv2.imread(image_name, cv2.IMREAD_GRAYSCALE)\n",
        "  plt.imshow(image, 'gray')\n",
        "\n",
        "  figHist2, axsHist2 = plt.subplots()\n",
        "\n",
        "  hist = cv2.calcHist([image], [0], None, [256], [0, 256])\n",
        "  histNorm = hist/(len(image)*len(image[0]))\n",
        "  histSqueeze = np.squeeze(histNorm)\n",
        "\n",
        "  CHistNorm = histNorm.cumsum()\n",
        "  CHistNorm = CHistNorm * (max(hist)/max(CHistNorm))\n",
        "\n",
        "  p = histSqueeze\n",
        "  k = np.dot(np.arange(256), p)\n",
        "  zadBin(p, k, image_name)\n",
        "\n",
        "zadBinOuter(\"figura1.png\")"
      ],
      "metadata": {
        "id": "ktw8rNNSvFPU"
      },
      "execution_count": null,
      "outputs": []
    },
    {
      "cell_type": "code",
      "source": [
        "zadBinOuter(\"figura2.png\")"
      ],
      "metadata": {
        "id": "ZYQKcvVvxNMS"
      },
      "execution_count": null,
      "outputs": []
    },
    {
      "cell_type": "code",
      "source": [
        "zadBinOuter(\"figura3.png\")"
      ],
      "metadata": {
        "id": "j53glx4XxONQ"
      },
      "execution_count": null,
      "outputs": []
    },
    {
      "cell_type": "code",
      "source": [
        "zadBinOuter(\"figura4.png\")"
      ],
      "metadata": {
        "id": "ySXGanCHxPyc"
      },
      "execution_count": null,
      "outputs": []
    },
    {
      "cell_type": "markdown",
      "metadata": {
        "collapsed": false,
        "id": "D5QX7WA6hWUa"
      },
      "source": [
        "#### Metoda Otsu\n",
        "\n",
        "Jednym z częściej wykorzystywanych algorytmów wyznaczania progu jest metoda zaproponowana w roku 1979 przez Nobuyuki Otsu w artykule pt. \"A Threshold Selection Method from Gray-Level Histograms\" (można odszukać na IEEE Xplore).\n",
        "W algorytmie zakłada się, że obraz zawiera piksele należące do dwóch klas (obiektów i tła) tj. histogram obrazu jest bi-modalny (ma dwa maksima).\n",
        "Próg podziału obliczany jest tak, aby wariancja międzyklasowa była maksymalna.\n",
        "W tym sensie metodę Otsu można nazwać optymalną.\n",
        "\n",
        "Wprowadźmy teraz wskaźnik \"jakości\" wybranego progu podziału $k$, który będziemy optymalizować.\n",
        "W algorytmie Otsu jest to:\n",
        "\n",
        "\\begin{equation}\n",
        "\\label{eq:thresholding:otsu:eta} \\tag{11}\n",
        "\\eta(k) = \\frac{\\sigma^2_B(k)}{\\sigma^2_G}\n",
        "\\end{equation}\n",
        "gdzie:  $\\sigma^2_G$ - wariancja globalna, która może zostać obliczona na podstawie momentów statystycznych jako:\n",
        "\n",
        "\\begin{equation}\n",
        "\\label{eq:sigma} \\tag{12}\n",
        "\\sigma^2_G =  \\sum_{i=0}^{L-1} (i - m_G)^2 p_i\n",
        "\\end{equation}\n",
        "a $\\sigma^2_B$ jest wariancją międzyklasową, która jest zdefiniowana jako:\n",
        "\\begin{equation}\n",
        "\\label{eq:sigma_b} \\tag{13}\n",
        "\\sigma^2_B(k) =  P_0(k)(m_0(k) - m_G)^2 + P_1(k)(m_1(k) - m_G)^2\n",
        "\\end{equation}\n",
        "Równianie to można również przekształcić do:\n",
        "\\begin{equation}\n",
        "\\label{eq:thresholding:otsu:sigma_B_2} \\tag{14}\n",
        "\\sigma^2_B(k) =  P_0(k)P_1(k)(m_0(k) - m_1(k))^2 = \\frac{(m_G P_0(k) - m(k) )^2}{P_0(k)(1-P_0(k))}\n",
        "\\end{equation}\n",
        "gdzie:\n",
        "\\begin{equation}\n",
        "\\label{eq:mk} \\tag{15}\n",
        "m(k) = \\sum_{i=0}^{k} i p_i\n",
        "\\end{equation}\n",
        "\n",
        "Taki zapis pozwala przyspieszyć obliczenia.\n",
        "Wartość $m_G$ wyznaczana jest jednokrotnie, a zachodzi tylko potrzeba obliczania $m(k)$ i $P_0(k)$ w każdej iteracji.\n",
        "Warto też zwrócić uwagę, że równanie ma sens dla $P_0 > 0$.\n",
        "\n",
        "Warto zauważyć, że z postaci równania (\\ref{eq:thresholding:otsu:sigma_B_2}) wynika, że im większa odległość pomiędzy średnimi $m_0$ i $m_1$ tym wartość wariancji międzyklasowej jest większa.\n",
        "Pokazuje to, że przyjęty współczynniki może być podstawą do separacji dwóch klas - im jego wartość jest większa, tym lepsze rozdzielenie.\n",
        "Dodatkowo, z równania (\\ref{eq:thresholding:otsu:eta}) wynika, że $\\eta(k)$ zależy tylko od wariancji międzyklasowej $\\sigma^2_B(k)$, gdyż wariancja globalna $\\sigma^2_G$ jest stała.\n",
        "Zatem w procesie optymalizacji należy dążyć do maksymalizacji wskaźnika $\\eta$.\n",
        "\n",
        "Należy też pamiętać, że współczynnik jest poprawnie określony tylko dla wartości $\\sigma^2_G > 0$.\n",
        "Przy czym, wartość $0$ może on przyjąć tylko dla obrazu o jednym poziomie szarości - w takim przypadku trudno mówić o podziale pikseli na dwie klasy (skoro występuje tylko jedna).\n",
        "\n",
        "Ostatecznie optymalny próg binaryzacji $\\bar{k}$ wyliczamy na podstawie zależności:\n",
        "\\begin{equation}\n",
        "\\label{eq:sigma_B_k} \\tag{16}\n",
        "\\sigma^2_B(\\bar{k}) \\max\\limits_{k \\in[0,L-1]} {\\sigma^2_B(k) }\n",
        "\\end{equation}\n",
        "\n",
        "Uwagi:\n",
        "- może się zdarzyć, że znajdziemy więcej niż jedno maksimum tj. więcej wartości $\\bar{k}$.\n",
        "  W takim przypadku zwykle zakłada się, że próg będzie średnią otrzymanych wartości.\n",
        "- liczby $P_0(\\bar{k})$ i $P_1(\\bar{k})$ odpowiadają powierzchni zajmowanej przez obiekty klas $C_0$ i $C_1$.\n",
        "- liczby $m_0(\\bar{k})$ i $m_1(\\bar{k})$ odpowiadają średniej jasności obiektów klas $C_0$ i $C_1$.\n",
        "- wartość parametru $\\eta(\\bar{k})$ określa \"jakość\" wyznaczonego progu -- im większa tym lepiej.\n",
        "\n",
        "Zadanie: wykorzystując podane powyżej informacje należy zaimplementować metodę wyznaczania progu binaryzacji zaproponowaną przez Otsu.\n",
        "\n",
        "1. Wczytaj obraz _coins.png_.\n",
        "      Wyświetl go.\n",
        "\n",
        "2. Wyznacz jego histogram znormalizowany oraz oblicz średnią jasność (można do tego wykorzystać histogram) - kod zbliżony do stworzonego wcześniej.\n",
        "\n",
        "3. Zdefiniuj 256-elementowy wektor na współczynniki $\\sigma_B^2$ (funkcja `np.zeros`).\n",
        "\n",
        "4. W pętli po możliwych wartościach progu binaryzacji wyznacz wartość $\\sigma_B^2(k)$ na podstawie zależności (\\ref{eq:thresholding:otsu:sigma_B_2}).\n",
        "      Uwagi:\n",
        "      - wcześniejszego liczenia wartości $P_0(k)$ i $m(k)$ można uniknąć inkrementując wartośc $P_0, m$  w każdej iteracji.\n",
        "      - należy pamiętać, że równanie ma sens tylko dla $0 < P_0(k) < 1$. <br>\n",
        "\n",
        "5. Wyświetl przebieg $\\sigma_B^2(k)$.\n",
        "      Wykorzystaj funkcję `plt.plot`.\n",
        "\n",
        "6. Wyznacz wartość $\\bar{k}$ dla której współczynnik $\\sigma_B^2$ jest maksymalny.\n",
        "\t  Można to zrobić poprzez dodanie instrukcji w pętli (rozwiązanie bardziej elegancie) lub wykorzystując funkcję `max` (rozwiązanie dla leniwych).\n",
        "\t  Uwaga. Proszę pominąć obsługę przypadków niejednoznacznego maksimum.\n",
        "\n",
        "7. Zbinaryzuj obraz wykorzystując otrzymany próg.\n",
        "      Porównaj wyniki z rezultatem binaryzacji \"ręcznej\".\n",
        "\n",
        "8. W OpenCV dostępna jest implementacja metody Otsu - funkcja `cv2.threshold` z parametrem `cv2.THRESH_OTSU`.\n",
        "      Funkcja zwraca zbinaryzowany obraz oraz próg.\n",
        "      Wykonaj binaryzację obrazu _coins.png_ metodą Otsu.\n",
        "      Porównaj wyniki z własną implementacją - powinno wyjść tak samo (tzn. taki sam próg).\n",
        "\n",
        "9. Przeprowadź eksperyment również na obrazie _rice.png_ i _catalogue.png_"
      ]
    },
    {
      "cell_type": "code",
      "execution_count": null,
      "metadata": {
        "id": "jtjb4nD9hWUa"
      },
      "outputs": [],
      "source": [
        "\n",
        "def P0(k, p):\n",
        "  k = int(k)\n",
        "  sum = 0\n",
        "  for i in range(k):\n",
        "    sum += p[i]\n",
        "  return sum\n",
        "\n",
        "def P1(k, p):\n",
        "  k = int(k)\n",
        "  sum = 0\n",
        "  max_len = len(p)\n",
        "  for i in range(k-1, max_len):\n",
        "      sum += p[i]\n",
        "  return sum\n",
        "\n",
        "def m(k, p):\n",
        "  k = int(k)\n",
        "  sum = 0\n",
        "  for i in range(k):\n",
        "    sum += i*p[i]\n",
        "  return sum\n",
        "\n",
        "def sig_B(k, m_g, p0, mk):\n",
        "  return ((m_g*p0 - mk)**2)/(p0*(1 - p0))\n",
        "\n",
        "def prog2(image_name):\n",
        "  img = cv2.imread(image_name, cv2.IMREAD_GRAYSCALE)\n",
        "  plt.imshow(img, 'gray')\n",
        "\n",
        "  figHist2, axsHist2 = plt.subplots()\n",
        "\n",
        "  hist = cv2.calcHist([img], [0], None, [256], [0,256])\n",
        "  histNorm = hist/(len(img)*len(img[0]))\n",
        "  histSqueeze = np.squeeze(histNorm)\n",
        "\n",
        "  p = histSqueeze\n",
        "  avg_val = np.mean(img)\n",
        "  vec_sig = np.zeros(256)\n",
        "  mk = 0\n",
        "  p0k = 0\n",
        "\n",
        "  for k in range(256):\n",
        "    p0k += p[k]\n",
        "    mk += k*p[k]\n",
        "    if 0 < p0k < 1:\n",
        "      vec_sig[k] = sig_B(k, avg_val, p0k, mk)\n",
        "\n",
        "  plt.plot(np.arange(256), vec_sig)\n",
        "\n",
        "  maxi = 0\n",
        "  k_max = 0\n",
        "  for i in range(256):\n",
        "    if maxi < vec_sig[i]:\n",
        "      maxi = vec_sig[i]\n",
        "      k_max = i\n",
        "\n",
        "  print(k_max)\n",
        "  return k_max\n",
        "\n",
        "def show_bin2(tresh, img_name):\n",
        "  img = cv2.imread(img_name, cv2.IMREAD_GRAYSCALE)\n",
        "  ImgBin = (img > tresh).astype(int)\n",
        "  a, b = plt.subplots()\n",
        "  plt.imshow(ImgBin, 'gray')\n",
        "  plt.show()\n",
        "\n",
        "prg = prog2(\"coins.png\")\n",
        "show_bin2(prg, \"coins.png\")"
      ]
    },
    {
      "cell_type": "code",
      "source": [
        "img = cv2.imread(\"coins.png\", cv2.IMREAD_GRAYSCALE)\n",
        "prog, img = cv2.threshold(img, 0, 255, cv2.THRESH_OTSU)\n",
        "print(prog)\n",
        "plt.imshow(img ,'gray')"
      ],
      "metadata": {
        "id": "yjpQBL2p-2VS"
      },
      "execution_count": null,
      "outputs": []
    },
    {
      "cell_type": "code",
      "source": [
        "show_bin2(prog2(\"rice.png\"), \"rice.png\")"
      ],
      "metadata": {
        "id": "6FRtYOOqBEjj"
      },
      "execution_count": null,
      "outputs": []
    },
    {
      "cell_type": "code",
      "source": [
        "img = cv2.imread(\"rice.png\", cv2.IMREAD_GRAYSCALE)\n",
        "prog, img = cv2.threshold(img, 0, 255, cv2.THRESH_OTSU)\n",
        "print(prog)\n",
        "plt.imshow(img ,'gray')"
      ],
      "metadata": {
        "id": "iTmL7XxkBMsi"
      },
      "execution_count": null,
      "outputs": []
    },
    {
      "cell_type": "code",
      "source": [
        "show_bin2(prog2(\"catalogue.png\"), \"catalogue.png\")"
      ],
      "metadata": {
        "id": "JZLjVdQqBY5m"
      },
      "execution_count": null,
      "outputs": []
    },
    {
      "cell_type": "code",
      "source": [
        "img = cv2.imread(\"catalogue.png\", cv2.IMREAD_GRAYSCALE)\n",
        "prog, img = cv2.threshold(img, 0, 255, cv2.THRESH_OTSU)\n",
        "print(prog)\n",
        "plt.imshow(img ,'gray')"
      ],
      "metadata": {
        "id": "SkBTIcz1BZM_"
      },
      "execution_count": null,
      "outputs": []
    },
    {
      "cell_type": "markdown",
      "metadata": {
        "collapsed": false,
        "id": "hNW7wGQ2hWUb"
      },
      "source": [
        "### Binaryzacja lokalna\n",
        "\n",
        "\n",
        "Analiza wyników binaryzacji dla obrazów _rice.png_ i _catalogue.png_ pokazuje, że globalna binaryzacja nie najlepiej działa dla obrazów o niejednorodnym oświetleniu.\n",
        "Dla obu obrazów trudno również wyznaczyć odpowiedni próg \"ręcznie\".\n",
        "\n",
        "Metodą, która pozwala poprawić wyniki binaryzacji, jest binaryzacja lokalna (niekiedy zwana adaptacyjną).\n",
        "W jednym z wariantów polega ona na wyznaczeniu progu osobno dla każdego piksela na podstawie jego otoczenia (tj. własności jego kontekstu, okna).\n",
        "\n",
        "1. Dla uproszczenia zakładamy, że obraz ma rozmiar $256 \\times 256$ pikseli. Przyjmijmy okno analizy o rozmiarze 15 pikseli.\n",
        "\n",
        "2. Najprostsza wersja binaryzacji lokalnej zakłada, że próg binaryzacji dla danego okna to średnia z pikseli w tym oknie.\n",
        "\n",
        "3. Wczytaj obraz _rice.png_. Rozmiar obrazka (`X,Y`) można uzyskać stosując taką składnię: `(X, Y) = obraz.shape`.\n",
        "\n",
        "4. Podstawą algorytmu są dwie pętle `for` iterujące po pikselach obrazka:\n",
        "\n",
        "\n",
        "\tfor j in range(W/2, Y-W/2):\n",
        "\t    for i in range(W/2, X-W/2):\n",
        "\n",
        "5. Wewnątrz pętli należy dla każdego piksela wyciąć jego otoczenie o rozmiarze `W` (operator `:`), wyznaczyć z niego średnią (metoda `mean`) i na jej podstawie dokonać binaryzacji.\n",
        "\n",
        "6. Wyświetl obrazy oryginalny i zbinaryzowany.\n",
        "\n",
        "7. Zaobserwuj rezultaty działania metody dla obrazów _rice.png_ i _catalogue.png_.\n",
        "      Poeksperymentuj z rozmiarem okna (proszę nie przesadzać z rozmiarem, gdyż istotnie wpływa on na czas obliczeń).\n",
        "      Jaka jest podstawowa wada zaimplementowanej metody? (pomijając złożoność obliczeniową).\n",
        "      Proszę się zastanowić jakie jest źródło błędów."
      ]
    },
    {
      "cell_type": "code",
      "execution_count": null,
      "metadata": {
        "id": "_-R_AQHahWUb"
      },
      "outputs": [],
      "source": [
        "import copy\n",
        "\n",
        "def zad_lokal(img_name, W):\n",
        "  img = cv2.imread(img_name, cv2.IMREAD_GRAYSCALE)\n",
        "  plt.imshow(img, 'gray')\n",
        "\n",
        "  X,Y = img.shape\n",
        "  img2 = copy.deepcopy(img)\n",
        "\n",
        "  for j in range(W//2, Y-W//2):\n",
        "    for i in range(W//2, X-W//2):\n",
        "      avg = np.mean(img[i-W//2:i+W//2,j-W//2:j+W//2])\n",
        "      img2[i][j] = 255*(img[i][j] > avg).astype(int)\n",
        "  return img2\n",
        "\n",
        "IRice = zad_lokal(\"rice.png\", 15)\n",
        "a, b = plt.subplots()\n",
        "plt.imshow(IRice, 'gray')\n",
        "plt.show()"
      ]
    },
    {
      "cell_type": "code",
      "source": [
        "ICatalogue = zad_lokal(\"catalogue.png\", 15)\n",
        "a, b = plt.subplots()\n",
        "plt.imshow(ICatalogue, 'gray')\n",
        "plt.show()"
      ],
      "metadata": {
        "id": "PC68Ys1AE9Da"
      },
      "execution_count": null,
      "outputs": []
    },
    {
      "cell_type": "code",
      "source": [
        "ICatalogue = zad_lokal(\"catalogue.png\", 5)\n",
        "a, b = plt.subplots()\n",
        "plt.imshow(ICatalogue, 'gray')\n",
        "plt.show()"
      ],
      "metadata": {
        "id": "L2TLzO1cFThp"
      },
      "execution_count": null,
      "outputs": []
    },
    {
      "cell_type": "code",
      "source": [
        "ICatalogue = zad_lokal(\"catalogue.png\", 25)\n",
        "a, b = plt.subplots()\n",
        "plt.imshow(ICatalogue, 'gray')\n",
        "plt.show()"
      ],
      "metadata": {
        "id": "1TALA2QuFXoD"
      },
      "execution_count": null,
      "outputs": []
    },
    {
      "cell_type": "markdown",
      "metadata": {
        "id": "8y22ts_hhWUb"
      },
      "source": [
        "8. Jakość działania binaryzacji lokalnej można poprawić wyznaczając próg za pomocą metody Sauvol'i i Pietikainen'a zaproponowanej w artykule *Adaptive document image binarization*.\n",
        "Wykorzystuje ona, oprócz średniej, informację o odchyleniu standardowym w danym oknie.\n",
        "Próg binaryzacji wyznaczany jest na podstawie zależności:\n",
        "\\begin{equation}\n",
        "\\label{eq:T} \\tag{17} \n",
        "T = srednia \\{1 \\pm k (\\frac{odchStd}{R}-1) \\}\n",
        "\\end{equation}\n",
        "gdzie: $k$ i $R$ to parametry ($R$ zwykle $128$, a $k$ na początek przyjmij $0.15$), $srednia$ i $odchStd$ to odpowiednio średnia i odchylenie standardowe wyliczone w oknie.\n",
        "\n",
        "9. Zaimplementuj algorytm Sauvoli - wykorzystaj do wyznaczenia średniej i odchylenia metody `mean()` oraz `std()` liczone dla wycinka (podobnie jak średnia w poprzedniej metodzie).\n",
        "      \n",
        "10. Uruchom metodę (uwaga - czas obliczeń nie jest krótki). Przeanalizuj wyniki. Zwróć uwagę, że dodanie informacji o odchyleniu standardowym powinno *poprawić* wyniki binaryzacji.\n",
        "      Jeżeli dzieje się inaczej, to najprawdopodobniej implementacja zawiera błąd. \n",
        "     \n",
        "11. Zastanów się nad znaczeniem symbolu $\\pm$ we wzorze na próg. \n",
        "      Kiedy należy zastosować znak +, a kiedy -.\n",
        "\n",
        "12. Porównaj jakość binaryzacji lokalnej metodą Sauvol'i i z progiem na podstawie średniej. \n",
        "      Poeksperymentuj z rozmiarem okna i parametrem k (dla obrazów _rice.png_ i _catalogue.png_)."
      ]
    },
    {
      "cell_type": "code",
      "execution_count": null,
      "metadata": {
        "id": "O9sj59nghWUc"
      },
      "outputs": [],
      "source": [
        "def zad_lokal_Sauv(img_name, W, R, k, jed):\n",
        "  img = cv2.imread(img_name, cv2.IMREAD_GRAYSCALE)\n",
        "  plt.imshow(img, 'gray')\n",
        "\n",
        "  X,Y = img.shape\n",
        "  img2 = copy.deepcopy(img)\n",
        "\n",
        "  for j in range(W//2, Y-W//2):\n",
        "    for i in range(W//2, X-W//2):\n",
        "      mini_img = (img[i-W//2:i+W//2,j-W//2:j+W//2])\n",
        "      T = np.mean(mini_img)*(1 + jed * k * ( np.std(mini_img)/R - 1 ) )\n",
        "      prog = (img[i][j] > T).astype(int)\n",
        "      img2[i][j] = 255*prog\n",
        "  return img2\n",
        "\n",
        "IRice = zad_lokal_Sauv(\"rice.png\", 15, 128, 0.15, 1)\n",
        "a, b = plt.subplots()\n",
        "plt.imshow(IRice, 'gray')\n",
        "plt.show()"
      ]
    },
    {
      "cell_type": "code",
      "source": [
        "IRice = zad_lokal_Sauv(\"rice.png\", 15, 128, 0.15, -1)\n",
        "a, b = plt.subplots()\n",
        "plt.imshow(IRice, 'gray')\n",
        "plt.show()"
      ],
      "metadata": {
        "id": "-PqFgWU2KV4y"
      },
      "execution_count": null,
      "outputs": []
    },
    {
      "cell_type": "code",
      "source": [
        "IRice = zad_lokal_Sauv(\"rice.png\", 25, 128, 0.15, -1)\n",
        "a, b = plt.subplots()\n",
        "plt.imshow(IRice, 'gray')\n",
        "plt.show()"
      ],
      "metadata": {
        "id": "r0Riiz1ZKtpc"
      },
      "execution_count": null,
      "outputs": []
    },
    {
      "cell_type": "code",
      "source": [
        "IRice = zad_lokal_Sauv(\"rice.png\", 15, 128, 0.4, -1)\n",
        "a, b = plt.subplots()\n",
        "plt.imshow(IRice, 'gray')\n",
        "plt.show()"
      ],
      "metadata": {
        "id": "RdVvoDLSKX1s"
      },
      "execution_count": null,
      "outputs": []
    },
    {
      "cell_type": "code",
      "source": [
        "IRice = zad_lokal_Sauv(\"rice.png\", 15, 128, 0.05, -1)\n",
        "a, b = plt.subplots()\n",
        "plt.imshow(IRice, 'gray')\n",
        "plt.show()"
      ],
      "metadata": {
        "id": "YLlemo42KhA7"
      },
      "execution_count": null,
      "outputs": []
    },
    {
      "cell_type": "code",
      "source": [
        "ICatalogue = zad_lokal_Sauv(\"catalogue.png\", 15, 128, 0.15, -1)\n",
        "a, b = plt.subplots()\n",
        "plt.imshow(ICatalogue, 'gray')\n",
        "plt.show()"
      ],
      "metadata": {
        "id": "ZjHibyGzL8w3"
      },
      "execution_count": null,
      "outputs": []
    },
    {
      "cell_type": "code",
      "source": [
        "ICatalogue = zad_lokal_Sauv(\"catalogue.png\", 15, 128, 0.15, 1)\n",
        "a, b = plt.subplots()\n",
        "plt.imshow(ICatalogue, 'gray')\n",
        "plt.show()"
      ],
      "metadata": {
        "id": "jw9gkNT9MBnx"
      },
      "execution_count": null,
      "outputs": []
    },
    {
      "cell_type": "code",
      "source": [
        "ICatalogue = zad_lokal_Sauv(\"catalogue.png\", 15, 128, 0.4, 1)\n",
        "a, b = plt.subplots()\n",
        "plt.imshow(ICatalogue, 'gray')\n",
        "plt.show()"
      ],
      "metadata": {
        "id": "UOuLcERhMCHB"
      },
      "execution_count": null,
      "outputs": []
    },
    {
      "cell_type": "markdown",
      "metadata": {
        "id": "Cay2_8ahhWUc"
      },
      "source": [
        "### Binaryzacja dwuprogowa\n",
        "\n",
        "Binaryzację można przeprowadzić wykorzystując więciej niż jedn próg.\n",
        "Przykładem jest binaryzacja dwuprogowa - wybieramy w ten sposób przedział jasności (piksele w nim zawarte klasyfikujemy jako obiekty).\n",
        "\n",
        "1. Wczytaj obraz _bart.png_. \n",
        "Wyświetl go, wyznacz i wyświetl jego histogram.\n",
        "Oceń, który fragment histogramu odpowiada kolorowi skóry Barta Simpsona.<br>\n",
        "**UWAGA - Aby odczytać wartości pikseli można zapisać obrazek na dysku (`cv2.imwrite('Nazwa.png', Image)`), a następnie odczytać wartościa programem do edycji obrazów, np. *paint*.**<br>"
      ]
    },
    {
      "cell_type": "code",
      "execution_count": null,
      "metadata": {
        "id": "IvdwjO_mhWUc"
      },
      "outputs": [],
      "source": [
        "img = cv2.imread(\"bart.png\", cv2.IMREAD_GRAYSCALE)\n",
        "plt.imshow(img, 'gray')\n",
        "zad2(img)"
      ]
    },
    {
      "cell_type": "markdown",
      "metadata": {
        "id": "oM1LY6fihWUc"
      },
      "source": [
        "2. Przeprowadź segmentację na podstawie koloru skóry (binaryzację dwuprogową). \n",
        "      Wykorzystaj przekształcenie obrazów z wartościami True, False na wartości 1,0 i mnożenie obrazów.\n",
        " \n",
        "3. Wynik wyświetl."
      ]
    },
    {
      "cell_type": "code",
      "execution_count": null,
      "metadata": {
        "id": "Nf4gMs1XhWUd"
      },
      "outputs": [],
      "source": [
        "prog1 = 190\n",
        "prog2 = 220\n",
        "\n",
        "img2 = copy.deepcopy(img)\n",
        "for i in range(len(img2)):\n",
        "  for j in range(len(img2[0])):\n",
        "    if prog1 < img[i][j] < prog2:\n",
        "      img2[i][j] = 1\n",
        "    else:\n",
        "      img2[i][j] = 0\n",
        "\n",
        "plt.imshow(img2, 'gray')\n"
      ]
    }
  ],
  "metadata": {
    "celltoolbar": "Raw Cell Format",
    "colab": {
      "provenance": []
    },
    "kernelspec": {
      "display_name": "Python 3",
      "language": "python",
      "name": "python3"
    },
    "language_info": {
      "codemirror_mode": {
        "name": "ipython",
        "version": 3
      },
      "file_extension": ".py",
      "mimetype": "text/x-python",
      "name": "python",
      "nbconvert_exporter": "python",
      "pygments_lexer": "ipython3",
      "version": "3.8.3"
    }
  },
  "nbformat": 4,
  "nbformat_minor": 0
}